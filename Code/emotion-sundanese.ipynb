{
 "cells": [
  {
   "cell_type": "markdown",
   "metadata": {},
   "source": [
    "# Emotion Classification in Sundanese Sentence"
   ]
  },
  {
   "cell_type": "markdown",
   "metadata": {},
   "source": [
    "## The obligatory part"
   ]
  },
  {
   "cell_type": "markdown",
   "metadata": {},
   "source": [
    "### Import the important library"
   ]
  },
  {
   "cell_type": "code",
   "execution_count": 149,
   "metadata": {},
   "outputs": [],
   "source": [
    "import pandas as pd\n",
    "import re"
   ]
  },
  {
   "cell_type": "markdown",
   "metadata": {},
   "source": [
    "### Data path"
   ]
  },
  {
   "cell_type": "code",
   "execution_count": 150,
   "metadata": {},
   "outputs": [],
   "source": [
    "data = pd.read_csv('../Dataset/data.csv')\n",
    "stopwords_path = '../Dataset/stopwordv2.txt'\n",
    "with open(stopwords_path, 'r') as file:\n",
    "    custom_stopwords = set([line.strip() for line in file.readlines()])"
   ]
  },
  {
   "cell_type": "code",
   "execution_count": 151,
   "metadata": {},
   "outputs": [
    {
     "data": {
      "text/html": [
       "<div>\n",
       "<style scoped>\n",
       "    .dataframe tbody tr th:only-of-type {\n",
       "        vertical-align: middle;\n",
       "    }\n",
       "\n",
       "    .dataframe tbody tr th {\n",
       "        vertical-align: top;\n",
       "    }\n",
       "\n",
       "    .dataframe thead th {\n",
       "        text-align: right;\n",
       "    }\n",
       "</style>\n",
       "<table border=\"1\" class=\"dataframe\">\n",
       "  <thead>\n",
       "    <tr style=\"text-align: right;\">\n",
       "      <th></th>\n",
       "      <th>label</th>\n",
       "      <th>data</th>\n",
       "    </tr>\n",
       "  </thead>\n",
       "  <tbody>\n",
       "    <tr>\n",
       "      <th>0</th>\n",
       "      <td>anger</td>\n",
       "      <td>sok geura leungit atuh sia teh corona, matak g...</td>\n",
       "    </tr>\n",
       "    <tr>\n",
       "      <th>1</th>\n",
       "      <td>anger</td>\n",
       "      <td>Nu katoel katuhu nu nyerina kenca, goblog wasitna</td>\n",
       "    </tr>\n",
       "    <tr>\n",
       "      <th>2</th>\n",
       "      <td>joy</td>\n",
       "      <td>Bingah pisan patepang sareng pangerasa. Sing k...</td>\n",
       "    </tr>\n",
       "    <tr>\n",
       "      <th>3</th>\n",
       "      <td>fear</td>\n",
       "      <td>asa hariwang kieu.. lalakon hirup teh asa nyor...</td>\n",
       "    </tr>\n",
       "    <tr>\n",
       "      <th>4</th>\n",
       "      <td>anger</td>\n",
       "      <td>Orang mana sih anying, sampis pisan. Bunuh ae ...</td>\n",
       "    </tr>\n",
       "    <tr>\n",
       "      <th>...</th>\n",
       "      <td>...</td>\n",
       "      <td>...</td>\n",
       "    </tr>\n",
       "    <tr>\n",
       "      <th>2093</th>\n",
       "      <td>joy</td>\n",
       "      <td>Meuni ngeunah ngabarakatak eeeuy uiiiiing....!</td>\n",
       "    </tr>\n",
       "    <tr>\n",
       "      <th>2094</th>\n",
       "      <td>joy</td>\n",
       "      <td>Meuni ku endah, tebeda nami na gusti nu agung,...</td>\n",
       "    </tr>\n",
       "    <tr>\n",
       "      <th>2095</th>\n",
       "      <td>joy</td>\n",
       "      <td>meuni bungah kieu euy meunang di ngalam, nuhun...</td>\n",
       "    </tr>\n",
       "    <tr>\n",
       "      <th>2096</th>\n",
       "      <td>joy</td>\n",
       "      <td>Meuni bingah ningalna ya alloh mudah\" PaS 02 k...</td>\n",
       "    </tr>\n",
       "    <tr>\n",
       "      <th>2097</th>\n",
       "      <td>joy</td>\n",
       "      <td>Meuni atoh ningali adi lanceuk guyub kitu</td>\n",
       "    </tr>\n",
       "  </tbody>\n",
       "</table>\n",
       "<p>2098 rows × 2 columns</p>\n",
       "</div>"
      ],
      "text/plain": [
       "      label                                               data\n",
       "0     anger  sok geura leungit atuh sia teh corona, matak g...\n",
       "1     anger  Nu katoel katuhu nu nyerina kenca, goblog wasitna\n",
       "2       joy  Bingah pisan patepang sareng pangerasa. Sing k...\n",
       "3      fear  asa hariwang kieu.. lalakon hirup teh asa nyor...\n",
       "4     anger  Orang mana sih anying, sampis pisan. Bunuh ae ...\n",
       "...     ...                                                ...\n",
       "2093    joy     Meuni ngeunah ngabarakatak eeeuy uiiiiing....!\n",
       "2094    joy  Meuni ku endah, tebeda nami na gusti nu agung,...\n",
       "2095    joy  meuni bungah kieu euy meunang di ngalam, nuhun...\n",
       "2096    joy  Meuni bingah ningalna ya alloh mudah\" PaS 02 k...\n",
       "2097    joy          Meuni atoh ningali adi lanceuk guyub kitu\n",
       "\n",
       "[2098 rows x 2 columns]"
      ]
     },
     "execution_count": 151,
     "metadata": {},
     "output_type": "execute_result"
    }
   ],
   "source": [
    "data"
   ]
  },
  {
   "cell_type": "markdown",
   "metadata": {},
   "source": [
    "### Lowercase"
   ]
  },
  {
   "cell_type": "code",
   "execution_count": 152,
   "metadata": {},
   "outputs": [],
   "source": [
    "data['lowercase'] = data['data'].str.lower()"
   ]
  },
  {
   "cell_type": "code",
   "execution_count": 153,
   "metadata": {},
   "outputs": [
    {
     "data": {
      "text/html": [
       "<div>\n",
       "<style scoped>\n",
       "    .dataframe tbody tr th:only-of-type {\n",
       "        vertical-align: middle;\n",
       "    }\n",
       "\n",
       "    .dataframe tbody tr th {\n",
       "        vertical-align: top;\n",
       "    }\n",
       "\n",
       "    .dataframe thead th {\n",
       "        text-align: right;\n",
       "    }\n",
       "</style>\n",
       "<table border=\"1\" class=\"dataframe\">\n",
       "  <thead>\n",
       "    <tr style=\"text-align: right;\">\n",
       "      <th></th>\n",
       "      <th>data</th>\n",
       "      <th>lowercase</th>\n",
       "    </tr>\n",
       "  </thead>\n",
       "  <tbody>\n",
       "    <tr>\n",
       "      <th>0</th>\n",
       "      <td>sok geura leungit atuh sia teh corona, matak g...</td>\n",
       "      <td>sok geura leungit atuh sia teh corona, matak g...</td>\n",
       "    </tr>\n",
       "    <tr>\n",
       "      <th>1</th>\n",
       "      <td>Nu katoel katuhu nu nyerina kenca, goblog wasitna</td>\n",
       "      <td>nu katoel katuhu nu nyerina kenca, goblog wasitna</td>\n",
       "    </tr>\n",
       "    <tr>\n",
       "      <th>2</th>\n",
       "      <td>Bingah pisan patepang sareng pangerasa. Sing k...</td>\n",
       "      <td>bingah pisan patepang sareng pangerasa. sing k...</td>\n",
       "    </tr>\n",
       "    <tr>\n",
       "      <th>3</th>\n",
       "      <td>asa hariwang kieu.. lalakon hirup teh asa nyor...</td>\n",
       "      <td>asa hariwang kieu.. lalakon hirup teh asa nyor...</td>\n",
       "    </tr>\n",
       "    <tr>\n",
       "      <th>4</th>\n",
       "      <td>Orang mana sih anying, sampis pisan. Bunuh ae ...</td>\n",
       "      <td>orang mana sih anying, sampis pisan. bunuh ae ...</td>\n",
       "    </tr>\n",
       "    <tr>\n",
       "      <th>...</th>\n",
       "      <td>...</td>\n",
       "      <td>...</td>\n",
       "    </tr>\n",
       "    <tr>\n",
       "      <th>2093</th>\n",
       "      <td>Meuni ngeunah ngabarakatak eeeuy uiiiiing....!</td>\n",
       "      <td>meuni ngeunah ngabarakatak eeeuy uiiiiing....!</td>\n",
       "    </tr>\n",
       "    <tr>\n",
       "      <th>2094</th>\n",
       "      <td>Meuni ku endah, tebeda nami na gusti nu agung,...</td>\n",
       "      <td>meuni ku endah, tebeda nami na gusti nu agung,...</td>\n",
       "    </tr>\n",
       "    <tr>\n",
       "      <th>2095</th>\n",
       "      <td>meuni bungah kieu euy meunang di ngalam, nuhun...</td>\n",
       "      <td>meuni bungah kieu euy meunang di ngalam, nuhun...</td>\n",
       "    </tr>\n",
       "    <tr>\n",
       "      <th>2096</th>\n",
       "      <td>Meuni bingah ningalna ya alloh mudah\" PaS 02 k...</td>\n",
       "      <td>meuni bingah ningalna ya alloh mudah\" pas 02 k...</td>\n",
       "    </tr>\n",
       "    <tr>\n",
       "      <th>2097</th>\n",
       "      <td>Meuni atoh ningali adi lanceuk guyub kitu</td>\n",
       "      <td>meuni atoh ningali adi lanceuk guyub kitu</td>\n",
       "    </tr>\n",
       "  </tbody>\n",
       "</table>\n",
       "<p>2098 rows × 2 columns</p>\n",
       "</div>"
      ],
      "text/plain": [
       "                                                   data  \\\n",
       "0     sok geura leungit atuh sia teh corona, matak g...   \n",
       "1     Nu katoel katuhu nu nyerina kenca, goblog wasitna   \n",
       "2     Bingah pisan patepang sareng pangerasa. Sing k...   \n",
       "3     asa hariwang kieu.. lalakon hirup teh asa nyor...   \n",
       "4     Orang mana sih anying, sampis pisan. Bunuh ae ...   \n",
       "...                                                 ...   \n",
       "2093     Meuni ngeunah ngabarakatak eeeuy uiiiiing....!   \n",
       "2094  Meuni ku endah, tebeda nami na gusti nu agung,...   \n",
       "2095  meuni bungah kieu euy meunang di ngalam, nuhun...   \n",
       "2096  Meuni bingah ningalna ya alloh mudah\" PaS 02 k...   \n",
       "2097          Meuni atoh ningali adi lanceuk guyub kitu   \n",
       "\n",
       "                                              lowercase  \n",
       "0     sok geura leungit atuh sia teh corona, matak g...  \n",
       "1     nu katoel katuhu nu nyerina kenca, goblog wasitna  \n",
       "2     bingah pisan patepang sareng pangerasa. sing k...  \n",
       "3     asa hariwang kieu.. lalakon hirup teh asa nyor...  \n",
       "4     orang mana sih anying, sampis pisan. bunuh ae ...  \n",
       "...                                                 ...  \n",
       "2093     meuni ngeunah ngabarakatak eeeuy uiiiiing....!  \n",
       "2094  meuni ku endah, tebeda nami na gusti nu agung,...  \n",
       "2095  meuni bungah kieu euy meunang di ngalam, nuhun...  \n",
       "2096  meuni bingah ningalna ya alloh mudah\" pas 02 k...  \n",
       "2097          meuni atoh ningali adi lanceuk guyub kitu  \n",
       "\n",
       "[2098 rows x 2 columns]"
      ]
     },
     "execution_count": 153,
     "metadata": {},
     "output_type": "execute_result"
    }
   ],
   "source": [
    "data[['data', 'lowercase']]"
   ]
  },
  {
   "cell_type": "markdown",
   "metadata": {},
   "source": [
    "### Create dictionary"
   ]
  },
  {
   "cell_type": "code",
   "execution_count": 154,
   "metadata": {},
   "outputs": [],
   "source": [
    "dictionary = pd.read_csv('../Dataset/result.csv', delimiter=';')"
   ]
  },
  {
   "cell_type": "code",
   "execution_count": 155,
   "metadata": {},
   "outputs": [
    {
     "data": {
      "text/html": [
       "<div>\n",
       "<style scoped>\n",
       "    .dataframe tbody tr th:only-of-type {\n",
       "        vertical-align: middle;\n",
       "    }\n",
       "\n",
       "    .dataframe tbody tr th {\n",
       "        vertical-align: top;\n",
       "    }\n",
       "\n",
       "    .dataframe thead th {\n",
       "        text-align: right;\n",
       "    }\n",
       "</style>\n",
       "<table border=\"1\" class=\"dataframe\">\n",
       "  <thead>\n",
       "    <tr style=\"text-align: right;\">\n",
       "      <th></th>\n",
       "      <th>repeated_char</th>\n",
       "      <th>kata_dasar</th>\n",
       "    </tr>\n",
       "  </thead>\n",
       "  <tbody>\n",
       "    <tr>\n",
       "      <th>0</th>\n",
       "      <td>siih</td>\n",
       "      <td>sih</td>\n",
       "    </tr>\n",
       "    <tr>\n",
       "      <th>1</th>\n",
       "      <td>gobloggg</td>\n",
       "      <td>goblog</td>\n",
       "    </tr>\n",
       "    <tr>\n",
       "      <th>2</th>\n",
       "      <td>sorry</td>\n",
       "      <td>hampura</td>\n",
       "    </tr>\n",
       "    <tr>\n",
       "      <th>3</th>\n",
       "      <td>ninggal</td>\n",
       "      <td>ninggalkeun</td>\n",
       "    </tr>\n",
       "    <tr>\n",
       "      <th>4</th>\n",
       "      <td>aniing</td>\n",
       "      <td>aning</td>\n",
       "    </tr>\n",
       "    <tr>\n",
       "      <th>...</th>\n",
       "      <td>...</td>\n",
       "      <td>...</td>\n",
       "    </tr>\n",
       "    <tr>\n",
       "      <th>665</th>\n",
       "      <td>glenn</td>\n",
       "      <td>NaN</td>\n",
       "    </tr>\n",
       "    <tr>\n",
       "      <th>666</th>\n",
       "      <td>pisannya</td>\n",
       "      <td>pisan</td>\n",
       "    </tr>\n",
       "    <tr>\n",
       "      <th>667</th>\n",
       "      <td>enggal</td>\n",
       "      <td>NaN</td>\n",
       "    </tr>\n",
       "    <tr>\n",
       "      <th>668</th>\n",
       "      <td>eeeuy</td>\n",
       "      <td>euy</td>\n",
       "    </tr>\n",
       "    <tr>\n",
       "      <th>669</th>\n",
       "      <td>bahh</td>\n",
       "      <td>bah</td>\n",
       "    </tr>\n",
       "  </tbody>\n",
       "</table>\n",
       "<p>670 rows × 2 columns</p>\n",
       "</div>"
      ],
      "text/plain": [
       "    repeated_char   kata_dasar\n",
       "0            siih          sih\n",
       "1        gobloggg       goblog\n",
       "2           sorry      hampura\n",
       "3         ninggal  ninggalkeun\n",
       "4          aniing        aning\n",
       "..            ...          ...\n",
       "665         glenn          NaN\n",
       "666      pisannya        pisan\n",
       "667        enggal          NaN\n",
       "668         eeeuy          euy\n",
       "669          bahh          bah\n",
       "\n",
       "[670 rows x 2 columns]"
      ]
     },
     "execution_count": 155,
     "metadata": {},
     "output_type": "execute_result"
    }
   ],
   "source": [
    "dictionary"
   ]
  },
  {
   "cell_type": "code",
   "execution_count": 156,
   "metadata": {},
   "outputs": [],
   "source": [
    "dictionary['kata_dasar'] = dictionary['kata_dasar'].fillna(dictionary['repeated_char'])"
   ]
  },
  {
   "cell_type": "code",
   "execution_count": 157,
   "metadata": {},
   "outputs": [
    {
     "data": {
      "text/html": [
       "<div>\n",
       "<style scoped>\n",
       "    .dataframe tbody tr th:only-of-type {\n",
       "        vertical-align: middle;\n",
       "    }\n",
       "\n",
       "    .dataframe tbody tr th {\n",
       "        vertical-align: top;\n",
       "    }\n",
       "\n",
       "    .dataframe thead th {\n",
       "        text-align: right;\n",
       "    }\n",
       "</style>\n",
       "<table border=\"1\" class=\"dataframe\">\n",
       "  <thead>\n",
       "    <tr style=\"text-align: right;\">\n",
       "      <th></th>\n",
       "      <th>repeated_char</th>\n",
       "      <th>kata_dasar</th>\n",
       "    </tr>\n",
       "  </thead>\n",
       "  <tbody>\n",
       "    <tr>\n",
       "      <th>0</th>\n",
       "      <td>siih</td>\n",
       "      <td>sih</td>\n",
       "    </tr>\n",
       "    <tr>\n",
       "      <th>1</th>\n",
       "      <td>gobloggg</td>\n",
       "      <td>goblog</td>\n",
       "    </tr>\n",
       "    <tr>\n",
       "      <th>2</th>\n",
       "      <td>sorry</td>\n",
       "      <td>hampura</td>\n",
       "    </tr>\n",
       "    <tr>\n",
       "      <th>3</th>\n",
       "      <td>ninggal</td>\n",
       "      <td>ninggalkeun</td>\n",
       "    </tr>\n",
       "    <tr>\n",
       "      <th>4</th>\n",
       "      <td>aniing</td>\n",
       "      <td>aning</td>\n",
       "    </tr>\n",
       "    <tr>\n",
       "      <th>...</th>\n",
       "      <td>...</td>\n",
       "      <td>...</td>\n",
       "    </tr>\n",
       "    <tr>\n",
       "      <th>665</th>\n",
       "      <td>glenn</td>\n",
       "      <td>glenn</td>\n",
       "    </tr>\n",
       "    <tr>\n",
       "      <th>666</th>\n",
       "      <td>pisannya</td>\n",
       "      <td>pisan</td>\n",
       "    </tr>\n",
       "    <tr>\n",
       "      <th>667</th>\n",
       "      <td>enggal</td>\n",
       "      <td>enggal</td>\n",
       "    </tr>\n",
       "    <tr>\n",
       "      <th>668</th>\n",
       "      <td>eeeuy</td>\n",
       "      <td>euy</td>\n",
       "    </tr>\n",
       "    <tr>\n",
       "      <th>669</th>\n",
       "      <td>bahh</td>\n",
       "      <td>bah</td>\n",
       "    </tr>\n",
       "  </tbody>\n",
       "</table>\n",
       "<p>670 rows × 2 columns</p>\n",
       "</div>"
      ],
      "text/plain": [
       "    repeated_char   kata_dasar\n",
       "0            siih          sih\n",
       "1        gobloggg       goblog\n",
       "2           sorry      hampura\n",
       "3         ninggal  ninggalkeun\n",
       "4          aniing        aning\n",
       "..            ...          ...\n",
       "665         glenn        glenn\n",
       "666      pisannya        pisan\n",
       "667        enggal       enggal\n",
       "668         eeeuy          euy\n",
       "669          bahh          bah\n",
       "\n",
       "[670 rows x 2 columns]"
      ]
     },
     "execution_count": 157,
     "metadata": {},
     "output_type": "execute_result"
    }
   ],
   "source": [
    "dictionary"
   ]
  },
  {
   "cell_type": "markdown",
   "metadata": {},
   "source": [
    "#### Mapping dict"
   ]
  },
  {
   "cell_type": "code",
   "execution_count": 158,
   "metadata": {},
   "outputs": [],
   "source": [
    "dictionary_map = dictionary.set_index('repeated_char')['kata_dasar'].to_dict()"
   ]
  },
  {
   "cell_type": "code",
   "execution_count": 159,
   "metadata": {},
   "outputs": [
    {
     "data": {
      "text/plain": [
       "{'siih': 'sih',\n",
       " 'gobloggg': 'goblog',\n",
       " 'sorry': 'hampura',\n",
       " 'ninggal': 'ninggalkeun',\n",
       " 'aniing': 'aning',\n",
       " 'baang': 'bang',\n",
       " 'allahh': 'allah',\n",
       " 'allah': 'allah',\n",
       " 'anjiiiir': 'anjir',\n",
       " 'meunggeus': 'meunggeus',\n",
       " 'alhamdulillah': 'alhamdulillah',\n",
       " 'hareeng': 'hareng',\n",
       " 'alloh': 'allah',\n",
       " 'plokk': 'plok',\n",
       " 'sanggem': 'sanggem',\n",
       " 'waas': 'was',\n",
       " 'ayaan': 'ayan',\n",
       " 'gustii': 'gusti',\n",
       " 'essien': 'essien',\n",
       " 'allhamdulillah': 'alhamdulilah',\n",
       " 'aminnnnn': 'amin',\n",
       " 'keadaan': 'kaayaan',\n",
       " 'njirr': 'njir',\n",
       " 'antepp': 'ngantep',\n",
       " 'subhanalloh': 'subhanallah',\n",
       " 'liburannya': 'liburannya',\n",
       " 'bebelaan': 'bebelaan',\n",
       " 'sllu': 'sok',\n",
       " 'haduhh': 'kaduhung',\n",
       " 'saacan': 'sacan',\n",
       " 'ee': 'ee',\n",
       " 'nyeriiiii': 'nyeri',\n",
       " 'aamiin': 'amin',\n",
       " 'teunggeul': 'teunggeulan',\n",
       " 'aaaah': 'ah',\n",
       " 'liverpool': 'liverpool',\n",
       " 'syukuranna': 'syukur',\n",
       " 'mm': 'mm',\n",
       " 'wee': 'wee',\n",
       " 'beuuuhhh': 'beuh',\n",
       " 'alhamdulilla': 'alhamdulilah',\n",
       " 'nggeus': 'sanggeus',\n",
       " 'ngajenggut': 'ngajenggut',\n",
       " 'niis': 'niis',\n",
       " 'meninggal': 'ajal',\n",
       " 'pengangguran': 'nganggur',\n",
       " 'duuuuh': 'duh',\n",
       " 'menciummu': 'nyium',\n",
       " 'sparrow': 'sparrow',\n",
       " 'heeee': 'heeee',\n",
       " 'pisannnnnn': 'pisan',\n",
       " 'macaan': 'macan',\n",
       " 'follow': 'miluan',\n",
       " 'tinggalieun': 'tinggaleun',\n",
       " 'seeur': 'seur',\n",
       " 'yawlaa': 'ya allah',\n",
       " 'tinggi': 'luhur',\n",
       " 'iih': 'ih',\n",
       " 'hujannya': 'hujan',\n",
       " 'dimandiin': 'mandi',\n",
       " 'ninggali': 'ninggalkeun',\n",
       " 'jiaaah': 'jiah',\n",
       " 'anyinggggg': 'anjing',\n",
       " 'reii': 'rei',\n",
       " 'nyaa': 'nya',\n",
       " 'neunggar': 'neunggeul',\n",
       " 'yeeeh': 'yeh',\n",
       " 'ammarwatasuta': 'amarwarsuta',\n",
       " 'seep': 'seep',\n",
       " 'yaa': 'yaa',\n",
       " 'bebentukanna': 'bentukna',\n",
       " 'yuuh': 'yuuh',\n",
       " 'hampuraaa': 'hampura',\n",
       " 'allohu': 'allah',\n",
       " 'mmwa': 'mmwa',\n",
       " 'inggris': 'inggris',\n",
       " 'hatee': 'hate',\n",
       " 'nenggeulan': 'neunggeulan',\n",
       " 'sokkk': 'sok',\n",
       " 'nonggeng': 'nonggeng',\n",
       " 'aambekan': 'ambekan',\n",
       " 'ahhhhhh': 'ahhhhhh',\n",
       " 'duhh': 'duhh',\n",
       " 'tutunggulan': 'tutunggulan',\n",
       " 'keeng': 'keeng',\n",
       " 'boss': 'boss',\n",
       " 'manfaat': 'mangpaat',\n",
       " 'moodbuster': 'moodbuster',\n",
       " 'lailahailallah': 'allah',\n",
       " 'seer': 'seer',\n",
       " 'ueeeekkkkkk': 'ueeeekkkkkk',\n",
       " 'gustiii': 'allah',\n",
       " 'jijiiii': 'jijiiii',\n",
       " 'guus': 'guus',\n",
       " 'difikirinnya': 'pikiranana',\n",
       " 'keeung': 'keeung',\n",
       " 'billy': 'billy',\n",
       " 'ninggalna': 'ninggalkeun',\n",
       " 'pikiranna': 'pikiranana',\n",
       " 'aduhhhhh': 'kaduhung',\n",
       " 'dinner': 'balakecrakan',\n",
       " 'followers': 'nuturkeun',\n",
       " 'ditinggal': 'ditinggalkeun',\n",
       " 'pamimpinna': 'pamingpin',\n",
       " 'goodjob': 'goodjob',\n",
       " 'ehh': 'ehh',\n",
       " 'twitter': 'twitter',\n",
       " 'cinggir': 'cinggir',\n",
       " 'bisaan': 'bisa',\n",
       " 'hujann': 'hujan',\n",
       " 'kahaareupna': 'kahareupnakeun',\n",
       " 'ppna': 'ppna',\n",
       " 'naaa': 'naaa',\n",
       " 'tahhhhh': 'tahhhhh',\n",
       " 'waduuuuuhh': 'kaduhung',\n",
       " 'pesanna': 'talatah',\n",
       " 'lurrr': 'lurrr',\n",
       " 'heeh': 'heeh',\n",
       " 'mamaaaaaaaahhhh': 'mamah',\n",
       " 'bangga': 'indung',\n",
       " 'anjiggggggg': 'anjing',\n",
       " 'bbtran': 'bbtran',\n",
       " 'sambeeel': 'sambel',\n",
       " 'heppybesdey': 'heppybesdey',\n",
       " 'diimah': 'diimah',\n",
       " 'dibenakku': 'akal',\n",
       " 'mialloh': 'mialloh',\n",
       " 'subhanallah': 'subhanallah',\n",
       " 'iin': 'iin',\n",
       " 'pangarumasaan': 'pangrumasan',\n",
       " 'astagfirullah': 'astagfirullah',\n",
       " 'euyyy': 'euyyy',\n",
       " 'ttp': 'tetep',\n",
       " 'disaat': 'waktuna',\n",
       " 'pangmbaraan': 'pangmbaraan',\n",
       " 'gaysss': 'gaysss',\n",
       " 'barokallah': 'barokallah',\n",
       " 'manggih': 'manggihan',\n",
       " 'aussie': 'aussie',\n",
       " 'panggih': 'papanggih',\n",
       " 'twinsss': 'twinsss',\n",
       " 'dibejaan': 'dibejakeun',\n",
       " 'aduuh': 'aduuh',\n",
       " 'allahuakbar': 'allahuakbar',\n",
       " 'kummaha': 'kumaha',\n",
       " 'biayaan': 'biayana',\n",
       " 'nanggapi': 'nanggepan',\n",
       " 'naoon': 'naon',\n",
       " 'aduuuh': 'kaduhung',\n",
       " 'anjiiiiing': 'anjing',\n",
       " 'dibbm': 'dibbm',\n",
       " 'allahu': 'allahu',\n",
       " 'official': 'resmi',\n",
       " 'nggeusan': 'nggeusan',\n",
       " 'emaaaaaaa': 'sanggeus',\n",
       " 'maanneh': 'maneh',\n",
       " 'hello': 'hello',\n",
       " 'siaaaaa': 'sia',\n",
       " 'duuh': 'kaduhung',\n",
       " 'tehh': 'teteh',\n",
       " 'aliraan': 'aliraan',\n",
       " 'eeuh': 'euh',\n",
       " 'yaallah': 'allah',\n",
       " 'pool': 'pool',\n",
       " 'eyy': 'eyy',\n",
       " 'alhamdullilah': 'alhamdullilah',\n",
       " 'haduhhh': 'kaduhung',\n",
       " 'meninggalkan': 'ninggalkeun',\n",
       " 'ardilla': 'ardilla',\n",
       " 'tungguan': 'tunggu',\n",
       " 'aallah': 'allah',\n",
       " 'ninggang': 'ninggang',\n",
       " 'ihhh': 'ihhh',\n",
       " 'yaaa': 'yaaa',\n",
       " 'tahh': 'tahh',\n",
       " 'ngetweet': 'ngetweet',\n",
       " 'siawwteh': 'siawwteh',\n",
       " 'tetangga': 'tatangga',\n",
       " 'dipanggil': 'digeroan',\n",
       " 'saranna': 'bongbolongan',\n",
       " 'ngalobaan': 'ngaloban',\n",
       " 'aww': 'aww',\n",
       " 'barokalloh': 'barokalloh',\n",
       " 'horror': 'sieun',\n",
       " 'massal': 'massal',\n",
       " 'walahhhh': 'kaduhung',\n",
       " 'keaadan': 'kaayaan',\n",
       " 'pemerkosaan': 'pemerkosa',\n",
       " 'nyiiir': 'nyiiir',\n",
       " 'kaabusan': 'kaabusan',\n",
       " 'asaan': 'asaan',\n",
       " 'nunggu': 'nungguan',\n",
       " 'skill': 'skill',\n",
       " 'ahaaaay': 'ahaaaay',\n",
       " 'ngangge': 'nganggepan',\n",
       " 'dkk': 'dkk',\n",
       " 'mninggal': 'ajal',\n",
       " 'njirrr': 'anjing',\n",
       " 'alhmdllah': 'alhamdulilah',\n",
       " 'bozz': 'boz',\n",
       " 'ngga': 'henteu',\n",
       " 'sobb': 'sob',\n",
       " 'kawaasan': 'kawasan',\n",
       " 'kecelakaan': 'kecelakan',\n",
       " 'carrier': 'carrier',\n",
       " 'menggapai': 'menggapai',\n",
       " 'asaa': 'asa',\n",
       " 'depanna': 'depana',\n",
       " 'adeuuhh': 'adeuh',\n",
       " 'rabb': 'rabb',\n",
       " 'deuui': 'deui',\n",
       " 'bubaaaar': 'bubar',\n",
       " 'hayoo': 'hayo',\n",
       " 'pisannn': 'pisan',\n",
       " 'yaallohh': 'yaallah',\n",
       " 'ajiggg': 'ajig',\n",
       " 'muluu': 'mulu',\n",
       " 'hhhaaaaa': 'ha',\n",
       " 'kaanjeun': 'kanjeun',\n",
       " 'nyingkahannana': 'nyingkahanana',\n",
       " 'hahhaaa': 'haha',\n",
       " 'setann': 'setan',\n",
       " 'perasaan': 'perasan',\n",
       " 'tatangkalaan': 'tatangkalan',\n",
       " 'bangsudd': 'bangsud',\n",
       " 'seafood': 'seafood',\n",
       " 'yess': 'yes',\n",
       " 'amiin': 'amiin',\n",
       " 'yaalloh': 'yaalloh',\n",
       " 'yaalah': 'yaallah',\n",
       " 'hahaahah': 'hahahah',\n",
       " 'riaa': 'ria',\n",
       " 'happy': 'happy',\n",
       " 'supporter': 'supporter',\n",
       " 'iyeuu': 'iyeu',\n",
       " 'kebahagiaan': 'kabagjaan',\n",
       " 'andelanna': 'andelana',\n",
       " 'gaboong': 'gabong',\n",
       " 'aduhhh': 'aduh',\n",
       " 'collab': 'colab',\n",
       " 'ninggangna': 'ningangna',\n",
       " 'pisaaan': 'pisan',\n",
       " 'ganggu': 'ganggu',\n",
       " 'gofood': 'gofood',\n",
       " 'nylahkeunna': 'nylahkeuna',\n",
       " 'hieee': 'hie',\n",
       " 'uus': 'us',\n",
       " 'jalanna': 'jalana',\n",
       " 'hiiii': 'hi',\n",
       " 'tatanggi': 'tatangi',\n",
       " 'penanggulangan': 'penangulangan',\n",
       " 'hahahha': 'hahaha',\n",
       " 'hororr': 'jurig',\n",
       " 'almdllah': 'alhamdulilah',\n",
       " 'buut': 'but',\n",
       " 'waeee': 'wae',\n",
       " 'wainna': 'waina',\n",
       " 'nyii': 'nyi',\n",
       " 'yaah': 'yah',\n",
       " 'aminn': 'amin',\n",
       " 'iiihhhh': 'ih',\n",
       " 'recommended': 'recommended',\n",
       " 'nungguin': 'nungguin',\n",
       " 'keheeed': 'kehed',\n",
       " 'melly': 'mely',\n",
       " 'mengguyur': 'menguyur',\n",
       " 'manii': 'mani',\n",
       " 'twitt': 'twit',\n",
       " 'ngangg': 'ngang',\n",
       " 'rampees': 'rampes',\n",
       " 'kieuu': 'kieu',\n",
       " 'berjamaah': 'berjamaah',\n",
       " 'hoboog': 'hobog',\n",
       " 'sepii': 'sepi',\n",
       " 'ngahujjah': 'ngahujah',\n",
       " 'iiih': 'ih',\n",
       " 'melakukannyah': 'ngalakonan',\n",
       " 'dugaan': 'upatemon',\n",
       " 'ditungguan': 'kautunggukan',\n",
       " 'dajjal': 'dajjal',\n",
       " 'reseeep': 'resep',\n",
       " 'mood': 'mood',\n",
       " 'weee': 'we',\n",
       " 'panggil': 'panggil',\n",
       " 'keseel': 'kaduhung',\n",
       " 'keesel': 'kaduhung',\n",
       " 'gokill': 'gokil',\n",
       " 'nyakk': 'nyak',\n",
       " 'derrys': 'derrys',\n",
       " 'whatsapp': 'whatsapp',\n",
       " 'siaaa': 'sia',\n",
       " 'maenna': 'maenna',\n",
       " 'nuhuuunn': 'nuhun',\n",
       " 'ngegasss': 'rungsing',\n",
       " 'wilujenggggggg': 'wilujeng',\n",
       " 'kesetiaan': 'kesetian ',\n",
       " 'tt': 'tt',\n",
       " 'dellll': 'del',\n",
       " 'bayavvak': 'bayawak',\n",
       " 'huuu': 'hu',\n",
       " 'menggemaskan': 'menggemaskan',\n",
       " 'euyy': 'euy',\n",
       " 'aamiiin': 'amin',\n",
       " 'yeahh': 'yeah',\n",
       " 'kkbutan': 'kebutan',\n",
       " 'edannnn': 'edan',\n",
       " 'duhhh': 'duh',\n",
       " 'cheese': 'cheese',\n",
       " 'nganggo': 'nganggo',\n",
       " 'bangsaaaaaaaat': 'bangsat',\n",
       " 'jadahhh': 'jadah',\n",
       " 'irabbikuma': 'irabikuma',\n",
       " 'jawabannya': 'jawabannya',\n",
       " 'pertanyaan': 'pertanyaan',\n",
       " 'inggis': 'ingis',\n",
       " 'roggomah': 'ronggomah ',\n",
       " 'baarengi': 'barengi',\n",
       " 'hiii': 'hi',\n",
       " 'sundaan': 'sundaan',\n",
       " 'ajigggg': 'ajig',\n",
       " 'astagpirullohala': 'astagfirullah',\n",
       " 'xxi': 'xixi',\n",
       " 'periiih': 'perih',\n",
       " 'ceritannya': 'ceritana',\n",
       " 'tth': 'teteh',\n",
       " 'kkn': 'kakang',\n",
       " 'enaaaaak': 'enak',\n",
       " 'aingggggg': 'aing',\n",
       " 'pee': 'pe',\n",
       " 'ngeshootnya': 'ngeshotna',\n",
       " 'hadeuuuh': 'hadeuh',\n",
       " 'aamin': 'amin',\n",
       " 'enyaa': 'ngeunah',\n",
       " 'jangarrr': 'jangar',\n",
       " 'mantennya': 'mantena',\n",
       " 'gaiss': 'gais',\n",
       " 'heuu': 'heu',\n",
       " 'tinggali': 'tinggalna',\n",
       " 'ngabayangkeunna': 'ngabayangkeuna',\n",
       " 'klluar': 'keluar',\n",
       " 'aminnnn': 'amin',\n",
       " 'uiiiiing': 'uing',\n",
       " 'mashaa': 'mashaallah',\n",
       " 'hobby': 'hobby',\n",
       " 'rabbal': 'rabbak',\n",
       " 'moon': 'mon',\n",
       " 'uulinan': 'ulinan',\n",
       " 'iihh': 'ih',\n",
       " 'siaa': 'sia',\n",
       " 'bubaaaaar': 'bubar',\n",
       " 'godinnya': 'godinnya',\n",
       " 'bermanfaat': 'maslahat',\n",
       " 'dasaar': 'dasar',\n",
       " 'kaanjeuna': 'kanjeuna',\n",
       " 'berturutturut': 'noron',\n",
       " 'kesenggol': 'kesenggol',\n",
       " 'caffe': 'cafe',\n",
       " 'jelemaa': 'jelema',\n",
       " 'lelenggutan': 'lelenggutan',\n",
       " 'alhamdulillahnya': 'alhamdulilah',\n",
       " 'oooh': 'oh',\n",
       " 'grabfood': 'grabfood',\n",
       " 'ditenggeulan': 'diteggeulan',\n",
       " 'aslilahh': 'asli',\n",
       " 'saatos': 'saatos',\n",
       " 'roojiuun': 'rojiun',\n",
       " 'babarayaan': 'babarayan',\n",
       " 'saalam': 'salam',\n",
       " 'teeh': 'the',\n",
       " 'sengklekkk': 'sengklek',\n",
       " 'mariilih': 'marilih',\n",
       " 'kangge': 'kangge',\n",
       " 'percintaan': 'perrcintaan',\n",
       " 'pemeriksaan': 'permeriksaan ',\n",
       " 'jeuung': 'jeung',\n",
       " 'atuhlahhhh': 'atuhlah',\n",
       " 'kebersamaan': 'kebersamaa',\n",
       " 'agull': 'agul',\n",
       " 'sokk': 'sok',\n",
       " 'lucuhhh': 'mutuh',\n",
       " 'kkbutn': 'kebutun',\n",
       " 'sukakkkk': 'resep',\n",
       " 'rooji': 'rooji',\n",
       " 'jangarr': 'jangar',\n",
       " 'tanggerang': 'tangerang',\n",
       " 'ewwuh': 'ewuh',\n",
       " 'ngaanggapna': 'nganggapna',\n",
       " 'bapaaaak': 'bapak',\n",
       " 'saruaa': 'sarua',\n",
       " 'kissing': 'engo',\n",
       " 'ripuuh': 'ripuh',\n",
       " 'eeongan': 'eongan',\n",
       " 'kapayunna': 'kapayuna',\n",
       " 'sarrng': 'sareng',\n",
       " 'alamii': 'alami',\n",
       " 'nepaan': 'nepaan',\n",
       " 'lalakinyaa': 'lalakina',\n",
       " 'bananainn': 'bananain',\n",
       " 'waee': 'wae',\n",
       " 'all': 'kabeh',\n",
       " 'genggaman': 'genggaman',\n",
       " 'aingggg': 'aing',\n",
       " 'ott': 'kaluar',\n",
       " 'bullshit': 'harkos',\n",
       " 'rudeet': 'rudet',\n",
       " 'nnaon': 'naon',\n",
       " 'uun': 'uun',\n",
       " 'sabaar': 'sabar',\n",
       " 'paadu': 'padu',\n",
       " 'haduhhhh': 'haduh',\n",
       " 'ttep': 'tetep',\n",
       " 'slurrrr': 'slur',\n",
       " 'bbudakeun': 'budalkeun',\n",
       " 'eoohhhhhh': 'eoh',\n",
       " 'tunduuh': 'tunduh',\n",
       " 'skillan': 'skilan',\n",
       " 'walahh': 'walah',\n",
       " 'ajgg': 'ajing',\n",
       " 'najisinncuih': 'najis',\n",
       " 'pencaharianna': 'pencahariana',\n",
       " 'masyallah': 'masha allah',\n",
       " 'anyeeeng': 'anjing',\n",
       " 'seuseurianna': 'seuseurianna',\n",
       " 'aslinaa': 'aslina',\n",
       " 'dooh': 'duh',\n",
       " 'anjirrrrr': 'anjing',\n",
       " 'inalillahi': 'innalillahi',\n",
       " 'laahhh': 'lah',\n",
       " 'bismillah': 'bismillah',\n",
       " 'tweet': 'tweet',\n",
       " 'innalillahi': 'innalillahi',\n",
       " 'ihh': 'ih',\n",
       " 'dosaa': 'dosa',\n",
       " 'shopeepaylater': 'shopee paylater',\n",
       " 'bbm': 'bahan bakar minyak',\n",
       " 'tweetan': 'tweet',\n",
       " 'katinggali': 'katinggali',\n",
       " 'kenyataan': 'kenyataan',\n",
       " 'ppppffffftttt': 'ppppffffftttt',\n",
       " 'ajigg': 'anjing',\n",
       " 'aduhh': 'aduh',\n",
       " 'ripuhh': 'ripuh',\n",
       " 'kaptenna': 'kaptenna',\n",
       " 'betee': 'bete',\n",
       " 'meuurrr': 'meur',\n",
       " 'dibebelaan': 'dibebelan',\n",
       " 'gustiiii': 'gusti',\n",
       " 'anjayy': 'anjing',\n",
       " 'damaaaaaang': 'damang',\n",
       " 'ngajedogggg': 'ngajedog',\n",
       " 'engges': 'engges',\n",
       " 'boyy': 'boy',\n",
       " 'hanyingg': 'anjing',\n",
       " 'nyinggung': 'nyinggung',\n",
       " 'ivaaaa': 'iva',\n",
       " 'gttu': 'gitu',\n",
       " 'anyeeng': 'anjing',\n",
       " 'atuhhhh': 'atuh',\n",
       " 'hujanna': 'hujanna',\n",
       " 'bahahhahahahaha': 'hahaha',\n",
       " 'taii': 'tai',\n",
       " 'aang': 'aang',\n",
       " 'assalamuallaikum': 'assalamuallaikum',\n",
       " 'astaghfirullah': 'astaghfirullah',\n",
       " 'alhmdulillah': 'alhamdulillah',\n",
       " 'kaayeuna': 'kaayeuna',\n",
       " 'kkumaha': 'kumaha',\n",
       " 'balikk': 'balik',\n",
       " 'laa': 'la',\n",
       " 'wkakakakkakaa': 'wkakakakkakaa',\n",
       " 'lennon': 'lenong',\n",
       " 'tanggungan': 'tanggungan',\n",
       " 'kuurg': 'kurug',\n",
       " 'yaampun': 'ya ampun',\n",
       " 'tujuanna': 'tujuannya',\n",
       " 'ukk': 'ukk',\n",
       " 'bully': 'perundungan',\n",
       " 'aingge': 'aingge',\n",
       " 'geraa': 'gera',\n",
       " 'putt': 'putt',\n",
       " 'tiiseun': 'iseun',\n",
       " 'enggalan': 'enggalan',\n",
       " 'lahhh': 'lah',\n",
       " 'seksehh': 'seksi',\n",
       " 'ahiig': 'ahig',\n",
       " 'sedihhh': 'sedih',\n",
       " 'hanna': 'hanna',\n",
       " 'alhdllh': 'alhamdulillah',\n",
       " 'mantapp': 'mantap',\n",
       " 'emmh': 'emmh',\n",
       " 'kunaonnya': 'kunaon',\n",
       " 'dll': 'dan lain lain',\n",
       " 'sugaaan': 'sugan',\n",
       " 'kanyaah': 'kanyah',\n",
       " 'baluu': 'balu',\n",
       " 'hadehhhhh': 'haduh',\n",
       " 'panooon': 'panon',\n",
       " 'ahh': 'ah',\n",
       " 'deek': 'dek',\n",
       " 'anggeur': 'anggeur',\n",
       " 'enyaaa': 'enya',\n",
       " 'tross': 'terus',\n",
       " 'brooooo': 'bro',\n",
       " 'harr': 'har',\n",
       " 'nuhuuunnn': 'nuhun',\n",
       " 'anjritt': 'anjing',\n",
       " 'menggiurkan': 'giur',\n",
       " 'ramee': 'rame',\n",
       " 'alooooh': 'halo',\n",
       " 'enggeus': 'enggeus',\n",
       " 'fullteam': 'full team',\n",
       " 'buzeer': 'buzzer',\n",
       " 'ditanggap': 'tanggap',\n",
       " 'katinggalna': 'katinggalna',\n",
       " 'beeuuggghhh': 'beugh',\n",
       " 'bawaana': 'bawaana',\n",
       " 'reseeeep': 'resep',\n",
       " 'aah': 'ah',\n",
       " 'perpisahanna': 'perpisahanna',\n",
       " 'bosquuuu': 'bos ku',\n",
       " 'pkerjaan': 'pekerjaan',\n",
       " 'succes': 'sukses',\n",
       " 'rujiiiiiiiiiiiiit': 'rujit',\n",
       " 'kayaan': 'kayan',\n",
       " 'challenge': 'tantangan',\n",
       " 'iiihhh': 'ih',\n",
       " 'anjiss': 'anjing',\n",
       " 'bobottoh': 'bobotoh',\n",
       " 'astagahh': 'astaga',\n",
       " 'caangna': 'caangna',\n",
       " 'tulisanna': 'tulisanna',\n",
       " 'miin': 'min',\n",
       " 'dzannur': 'dzannur',\n",
       " 'anyinggg': 'anjing',\n",
       " 'sbaari': 'sabar',\n",
       " 'lawakklubtrans': 'lawak klub trans',\n",
       " 'ppriheun': 'pripun',\n",
       " 'boo': 'boo',\n",
       " 'pujaan': 'pujaan',\n",
       " 'cell': 'cell',\n",
       " 'sorr': 'sorr',\n",
       " 'hnmm': 'hnmm',\n",
       " 'seratannana': 'seratannana',\n",
       " 'tebby': 'tebby',\n",
       " 'hiiih': 'hiiih',\n",
       " 'berduaan': 'berduaan',\n",
       " 'kendaraan': 'kendaraan',\n",
       " 'eraa': 'eraa',\n",
       " 'knyaahna': 'kanyahna',\n",
       " 'eyapp': 'iya',\n",
       " 'bacottt': 'bacot',\n",
       " 'baihakki': 'baihaqi',\n",
       " 'haaaa': 'haaaa',\n",
       " 'maaf': 'maaf',\n",
       " 'cobaan': 'cobaan',\n",
       " 'juaraaaaaaaaaaa': 'juara',\n",
       " 'dipikanyaah': 'pikanyah',\n",
       " 'boboraah': 'boborah',\n",
       " 'sihh': 'sihh',\n",
       " 'rangga': 'rangga',\n",
       " 'cungurrr': 'cungur',\n",
       " 'astagfirulloh': 'astaghfirullah',\n",
       " 'yawloooo': 'ya allah',\n",
       " 'wkkwkwkw': 'wkkwkwkw',\n",
       " 'too': 'too',\n",
       " 'inallillahi': 'innalillahi',\n",
       " 'ngageunggeuik': 'geunggeuik',\n",
       " 'kuotaan': 'kuota',\n",
       " 'euung': 'eung',\n",
       " 'naa': 'naa',\n",
       " 'sungguh': 'sungguh',\n",
       " 'footsaall': 'futsal',\n",
       " 'facebook': 'facebook',\n",
       " 'ajjg': 'anjing',\n",
       " 'sadness': 'sadness',\n",
       " 'yaahh': 'yah',\n",
       " 'tteh': 'teteh',\n",
       " 'allohuakbar': 'allahuakbar',\n",
       " 'ddnya': 'dadanya',\n",
       " 'kieee': 'kie',\n",
       " 'bayaranna': 'bayaranna',\n",
       " 'peurihhh': 'peurih',\n",
       " 'ngagofood': 'nge gofood',\n",
       " 'hadeuhhh': 'haduh',\n",
       " 'eeiiimmm': 'eim',\n",
       " 'uuyyy': 'uy',\n",
       " 'innaalillaahi': 'innaalillaahi',\n",
       " 'jenaaatt': 'jenat',\n",
       " 'caritaan': 'caritaan',\n",
       " 'aliasss': 'alias',\n",
       " 'waregg': 'wareg',\n",
       " 'ahhh': 'ah',\n",
       " 'hmmm': 'hmmm',\n",
       " 'haramm': 'haram',\n",
       " 'fabiayyi': 'fabiayyi',\n",
       " 'batikeunna': 'batikeunna',\n",
       " 'obaa': 'oba',\n",
       " 'insyaalloh': 'insha allah',\n",
       " 'passer': 'passer',\n",
       " 'ditunggu': 'tunggu',\n",
       " 'nyahoo': 'nyahu',\n",
       " 'bangsatttttt': 'bangsat',\n",
       " 'menii': 'meni',\n",
       " 'koordinasi': 'koordinasi',\n",
       " 'ngagentraan': 'ngagentraan',\n",
       " 'google': 'google',\n",
       " 'melaan': 'melaan',\n",
       " 'uusekan': 'usekan',\n",
       " 'oorang': 'orang',\n",
       " 'pliss': 'please',\n",
       " 'cherrybell': 'cherrybelle',\n",
       " 'naudzubillah': 'naudzubillah',\n",
       " 'hqq': 'hakiki',\n",
       " 'rrencangan': 'rencangan',\n",
       " 'akkeun': 'akkeun',\n",
       " 'bapaaak': 'bapak',\n",
       " 'attu': 'atuh',\n",
       " 'full': 'full',\n",
       " 'kakkaraen': 'kakkaraen',\n",
       " 'buseeeeet': 'buset',\n",
       " 'pulaang': 'pulang',\n",
       " 'stress': 'stress',\n",
       " 'annoying': 'annoying',\n",
       " 'waduhh': 'waduh',\n",
       " 'raat': 'raat',\n",
       " 'anggap': 'anggap',\n",
       " 'anggang': 'anggang',\n",
       " 'anggeus': 'anggeus',\n",
       " 'waraas': 'waras',\n",
       " 'wahh': 'wah',\n",
       " 'ajiggggg': 'anjing',\n",
       " 'uuh': 'uh',\n",
       " 'ajaa': 'aja',\n",
       " 'sumpahh': 'sumpah',\n",
       " 'pinggiran': 'pinggiran',\n",
       " 'laahh': 'lah',\n",
       " 'wkwkkwkwkwwk': 'wkwkkwkwkwwk',\n",
       " 'terharuuu': 'terharu',\n",
       " 'muhammad': 'muhammad',\n",
       " 'mekkah': 'mekkah',\n",
       " 'psbb': 'psbb',\n",
       " 'mikanyaah': 'mikanyah',\n",
       " 'bejaan': 'bejan',\n",
       " 'spill': 'spill',\n",
       " 'barakallah': 'barakallh',\n",
       " 'adminna': 'adminna',\n",
       " 'dayyyy': 'day',\n",
       " 'reeus': 'reeus',\n",
       " 'ninggalan': 'ninggalan',\n",
       " 'kituu': 'kituu',\n",
       " 'gaada': 'gak ada',\n",
       " 'plisss': 'please',\n",
       " 'terharuu': 'terharu',\n",
       " 'pp': 'pp',\n",
       " 'okk': 'ok',\n",
       " 'shyitt': 'shit',\n",
       " 'nuhunn': 'nuhun',\n",
       " 'hargaan': 'harga',\n",
       " 'jawabannateh': 'jawabannateh',\n",
       " 'uhh': 'uhh',\n",
       " 'ppu': 'ppu',\n",
       " 'narimakeunna': 'narimakeunna',\n",
       " 'mmh': 'mamah',\n",
       " 'ngajakkan': 'ngajakkan',\n",
       " 'pisaannnn': 'pisan',\n",
       " 'glenn': 'glenn',\n",
       " 'pisannya': 'pisan',\n",
       " 'enggal': 'enggal',\n",
       " 'eeeuy': 'euy',\n",
       " 'bahh': 'bah'}"
      ]
     },
     "execution_count": 159,
     "metadata": {},
     "output_type": "execute_result"
    }
   ],
   "source": [
    "dictionary_map"
   ]
  },
  {
   "cell_type": "code",
   "execution_count": 160,
   "metadata": {},
   "outputs": [],
   "source": [
    "data['mapping_dict'] = data['lowercase'].replace(dictionary_map, regex=True)"
   ]
  },
  {
   "cell_type": "code",
   "execution_count": 161,
   "metadata": {},
   "outputs": [
    {
     "data": {
      "text/html": [
       "<div>\n",
       "<style scoped>\n",
       "    .dataframe tbody tr th:only-of-type {\n",
       "        vertical-align: middle;\n",
       "    }\n",
       "\n",
       "    .dataframe tbody tr th {\n",
       "        vertical-align: top;\n",
       "    }\n",
       "\n",
       "    .dataframe thead th {\n",
       "        text-align: right;\n",
       "    }\n",
       "</style>\n",
       "<table border=\"1\" class=\"dataframe\">\n",
       "  <thead>\n",
       "    <tr style=\"text-align: right;\">\n",
       "      <th></th>\n",
       "      <th>label</th>\n",
       "      <th>data</th>\n",
       "      <th>lowercase</th>\n",
       "      <th>mapping_dict</th>\n",
       "    </tr>\n",
       "  </thead>\n",
       "  <tbody>\n",
       "    <tr>\n",
       "      <th>0</th>\n",
       "      <td>anger</td>\n",
       "      <td>sok geura leungit atuh sia teh corona, matak g...</td>\n",
       "      <td>sok geura leungit atuh sia teh corona, matak g...</td>\n",
       "      <td>sok geura leungit atuh sia teh corona, matak g...</td>\n",
       "    </tr>\n",
       "    <tr>\n",
       "      <th>1</th>\n",
       "      <td>anger</td>\n",
       "      <td>Nu katoel katuhu nu nyerina kenca, goblog wasitna</td>\n",
       "      <td>nu katoel katuhu nu nyerina kenca, goblog wasitna</td>\n",
       "      <td>nu katoel katuhu nu nyerina kenca, goblog wasitna</td>\n",
       "    </tr>\n",
       "    <tr>\n",
       "      <th>2</th>\n",
       "      <td>joy</td>\n",
       "      <td>Bingah pisan patepang sareng pangerasa. Sing k...</td>\n",
       "      <td>bingah pisan patepang sareng pangerasa. sing k...</td>\n",
       "      <td>bingah pisan patepang sareng pangerasa. sing k...</td>\n",
       "    </tr>\n",
       "    <tr>\n",
       "      <th>3</th>\n",
       "      <td>fear</td>\n",
       "      <td>asa hariwang kieu.. lalakon hirup teh asa nyor...</td>\n",
       "      <td>asa hariwang kieu.. lalakon hirup teh asa nyor...</td>\n",
       "      <td>asa hariwang kieu.. lalakon hirup teh asa nyor...</td>\n",
       "    </tr>\n",
       "    <tr>\n",
       "      <th>4</th>\n",
       "      <td>anger</td>\n",
       "      <td>Orang mana sih anying, sampis pisan. Bunuh ae ...</td>\n",
       "      <td>orang mana sih anying, sampis pisan. bunuh ae ...</td>\n",
       "      <td>orang mana sih anying, sampis pisan. bunuh ae ...</td>\n",
       "    </tr>\n",
       "    <tr>\n",
       "      <th>...</th>\n",
       "      <td>...</td>\n",
       "      <td>...</td>\n",
       "      <td>...</td>\n",
       "      <td>...</td>\n",
       "    </tr>\n",
       "    <tr>\n",
       "      <th>2093</th>\n",
       "      <td>joy</td>\n",
       "      <td>Meuni ngeunah ngabarakatak eeeuy uiiiiing....!</td>\n",
       "      <td>meuni ngeunah ngabarakatak eeeuy uiiiiing....!</td>\n",
       "      <td>meuni ngeunah ngabarakatak euy uing....!</td>\n",
       "    </tr>\n",
       "    <tr>\n",
       "      <th>2094</th>\n",
       "      <td>joy</td>\n",
       "      <td>Meuni ku endah, tebeda nami na gusti nu agung,...</td>\n",
       "      <td>meuni ku endah, tebeda nami na gusti nu agung,...</td>\n",
       "      <td>meuni ku endah, tebeda nami na gusti nu agung,...</td>\n",
       "    </tr>\n",
       "    <tr>\n",
       "      <th>2095</th>\n",
       "      <td>joy</td>\n",
       "      <td>meuni bungah kieu euy meunang di ngalam, nuhun...</td>\n",
       "      <td>meuni bungah kieu euy meunang di ngalam, nuhun...</td>\n",
       "      <td>meuni bungah kieu euy meunang di ngalam, nuhun...</td>\n",
       "    </tr>\n",
       "    <tr>\n",
       "      <th>2096</th>\n",
       "      <td>joy</td>\n",
       "      <td>Meuni bingah ningalna ya alloh mudah\" PaS 02 k...</td>\n",
       "      <td>meuni bingah ningalna ya alloh mudah\" pas 02 k...</td>\n",
       "      <td>meuni bingah ningalna ya kabehah mudah\" pas 02...</td>\n",
       "    </tr>\n",
       "    <tr>\n",
       "      <th>2097</th>\n",
       "      <td>joy</td>\n",
       "      <td>Meuni atoh ningali adi lanceuk guyub kitu</td>\n",
       "      <td>meuni atoh ningali adi lanceuk guyub kitu</td>\n",
       "      <td>meuni atoh ningali adi lanceuk guyub kitu</td>\n",
       "    </tr>\n",
       "  </tbody>\n",
       "</table>\n",
       "<p>2098 rows × 4 columns</p>\n",
       "</div>"
      ],
      "text/plain": [
       "      label                                               data  \\\n",
       "0     anger  sok geura leungit atuh sia teh corona, matak g...   \n",
       "1     anger  Nu katoel katuhu nu nyerina kenca, goblog wasitna   \n",
       "2       joy  Bingah pisan patepang sareng pangerasa. Sing k...   \n",
       "3      fear  asa hariwang kieu.. lalakon hirup teh asa nyor...   \n",
       "4     anger  Orang mana sih anying, sampis pisan. Bunuh ae ...   \n",
       "...     ...                                                ...   \n",
       "2093    joy     Meuni ngeunah ngabarakatak eeeuy uiiiiing....!   \n",
       "2094    joy  Meuni ku endah, tebeda nami na gusti nu agung,...   \n",
       "2095    joy  meuni bungah kieu euy meunang di ngalam, nuhun...   \n",
       "2096    joy  Meuni bingah ningalna ya alloh mudah\" PaS 02 k...   \n",
       "2097    joy          Meuni atoh ningali adi lanceuk guyub kitu   \n",
       "\n",
       "                                              lowercase  \\\n",
       "0     sok geura leungit atuh sia teh corona, matak g...   \n",
       "1     nu katoel katuhu nu nyerina kenca, goblog wasitna   \n",
       "2     bingah pisan patepang sareng pangerasa. sing k...   \n",
       "3     asa hariwang kieu.. lalakon hirup teh asa nyor...   \n",
       "4     orang mana sih anying, sampis pisan. bunuh ae ...   \n",
       "...                                                 ...   \n",
       "2093     meuni ngeunah ngabarakatak eeeuy uiiiiing....!   \n",
       "2094  meuni ku endah, tebeda nami na gusti nu agung,...   \n",
       "2095  meuni bungah kieu euy meunang di ngalam, nuhun...   \n",
       "2096  meuni bingah ningalna ya alloh mudah\" pas 02 k...   \n",
       "2097          meuni atoh ningali adi lanceuk guyub kitu   \n",
       "\n",
       "                                           mapping_dict  \n",
       "0     sok geura leungit atuh sia teh corona, matak g...  \n",
       "1     nu katoel katuhu nu nyerina kenca, goblog wasitna  \n",
       "2     bingah pisan patepang sareng pangerasa. sing k...  \n",
       "3     asa hariwang kieu.. lalakon hirup teh asa nyor...  \n",
       "4     orang mana sih anying, sampis pisan. bunuh ae ...  \n",
       "...                                                 ...  \n",
       "2093           meuni ngeunah ngabarakatak euy uing....!  \n",
       "2094  meuni ku endah, tebeda nami na gusti nu agung,...  \n",
       "2095  meuni bungah kieu euy meunang di ngalam, nuhun...  \n",
       "2096  meuni bingah ningalna ya kabehah mudah\" pas 02...  \n",
       "2097          meuni atoh ningali adi lanceuk guyub kitu  \n",
       "\n",
       "[2098 rows x 4 columns]"
      ]
     },
     "execution_count": 161,
     "metadata": {},
     "output_type": "execute_result"
    }
   ],
   "source": [
    "data"
   ]
  },
  {
   "cell_type": "markdown",
   "metadata": {},
   "source": [
    "### Remove numbering (non alphabet)"
   ]
  },
  {
   "cell_type": "code",
   "execution_count": 162,
   "metadata": {},
   "outputs": [],
   "source": [
    "data['remove_non_alphabet'] = data['mapping_dict'].apply(lambda x: re.sub(r'[^a-z]', ' ', x))"
   ]
  },
  {
   "cell_type": "code",
   "execution_count": 163,
   "metadata": {},
   "outputs": [
    {
     "data": {
      "text/html": [
       "<div>\n",
       "<style scoped>\n",
       "    .dataframe tbody tr th:only-of-type {\n",
       "        vertical-align: middle;\n",
       "    }\n",
       "\n",
       "    .dataframe tbody tr th {\n",
       "        vertical-align: top;\n",
       "    }\n",
       "\n",
       "    .dataframe thead th {\n",
       "        text-align: right;\n",
       "    }\n",
       "</style>\n",
       "<table border=\"1\" class=\"dataframe\">\n",
       "  <thead>\n",
       "    <tr style=\"text-align: right;\">\n",
       "      <th></th>\n",
       "      <th>label</th>\n",
       "      <th>data</th>\n",
       "      <th>lowercase</th>\n",
       "      <th>mapping_dict</th>\n",
       "      <th>remove_non_alphabet</th>\n",
       "    </tr>\n",
       "  </thead>\n",
       "  <tbody>\n",
       "    <tr>\n",
       "      <th>0</th>\n",
       "      <td>anger</td>\n",
       "      <td>sok geura leungit atuh sia teh corona, matak g...</td>\n",
       "      <td>sok geura leungit atuh sia teh corona, matak g...</td>\n",
       "      <td>sok geura leungit atuh sia teh corona, matak g...</td>\n",
       "      <td>sok geura leungit atuh sia teh corona  matak g...</td>\n",
       "    </tr>\n",
       "    <tr>\n",
       "      <th>1</th>\n",
       "      <td>anger</td>\n",
       "      <td>Nu katoel katuhu nu nyerina kenca, goblog wasitna</td>\n",
       "      <td>nu katoel katuhu nu nyerina kenca, goblog wasitna</td>\n",
       "      <td>nu katoel katuhu nu nyerina kenca, goblog wasitna</td>\n",
       "      <td>nu katoel katuhu nu nyerina kenca  goblog wasitna</td>\n",
       "    </tr>\n",
       "    <tr>\n",
       "      <th>2</th>\n",
       "      <td>joy</td>\n",
       "      <td>Bingah pisan patepang sareng pangerasa. Sing k...</td>\n",
       "      <td>bingah pisan patepang sareng pangerasa. sing k...</td>\n",
       "      <td>bingah pisan patepang sareng pangerasa. sing k...</td>\n",
       "      <td>bingah pisan patepang sareng pangerasa  sing k...</td>\n",
       "    </tr>\n",
       "    <tr>\n",
       "      <th>3</th>\n",
       "      <td>fear</td>\n",
       "      <td>asa hariwang kieu.. lalakon hirup teh asa nyor...</td>\n",
       "      <td>asa hariwang kieu.. lalakon hirup teh asa nyor...</td>\n",
       "      <td>asa hariwang kieu.. lalakon hirup teh asa nyor...</td>\n",
       "      <td>asa hariwang kieu   lalakon hirup teh asa nyor...</td>\n",
       "    </tr>\n",
       "    <tr>\n",
       "      <th>4</th>\n",
       "      <td>anger</td>\n",
       "      <td>Orang mana sih anying, sampis pisan. Bunuh ae ...</td>\n",
       "      <td>orang mana sih anying, sampis pisan. bunuh ae ...</td>\n",
       "      <td>orang mana sih anying, sampis pisan. bunuh ae ...</td>\n",
       "      <td>orang mana sih anying  sampis pisan  bunuh ae ...</td>\n",
       "    </tr>\n",
       "    <tr>\n",
       "      <th>...</th>\n",
       "      <td>...</td>\n",
       "      <td>...</td>\n",
       "      <td>...</td>\n",
       "      <td>...</td>\n",
       "      <td>...</td>\n",
       "    </tr>\n",
       "    <tr>\n",
       "      <th>2093</th>\n",
       "      <td>joy</td>\n",
       "      <td>Meuni ngeunah ngabarakatak eeeuy uiiiiing....!</td>\n",
       "      <td>meuni ngeunah ngabarakatak eeeuy uiiiiing....!</td>\n",
       "      <td>meuni ngeunah ngabarakatak euy uing....!</td>\n",
       "      <td>meuni ngeunah ngabarakatak euy uing</td>\n",
       "    </tr>\n",
       "    <tr>\n",
       "      <th>2094</th>\n",
       "      <td>joy</td>\n",
       "      <td>Meuni ku endah, tebeda nami na gusti nu agung,...</td>\n",
       "      <td>meuni ku endah, tebeda nami na gusti nu agung,...</td>\n",
       "      <td>meuni ku endah, tebeda nami na gusti nu agung,...</td>\n",
       "      <td>meuni ku endah  tebeda nami na gusti nu agung ...</td>\n",
       "    </tr>\n",
       "    <tr>\n",
       "      <th>2095</th>\n",
       "      <td>joy</td>\n",
       "      <td>meuni bungah kieu euy meunang di ngalam, nuhun...</td>\n",
       "      <td>meuni bungah kieu euy meunang di ngalam, nuhun...</td>\n",
       "      <td>meuni bungah kieu euy meunang di ngalam, nuhun...</td>\n",
       "      <td>meuni bungah kieu euy meunang di ngalam  nuhun...</td>\n",
       "    </tr>\n",
       "    <tr>\n",
       "      <th>2096</th>\n",
       "      <td>joy</td>\n",
       "      <td>Meuni bingah ningalna ya alloh mudah\" PaS 02 k...</td>\n",
       "      <td>meuni bingah ningalna ya alloh mudah\" pas 02 k...</td>\n",
       "      <td>meuni bingah ningalna ya kabehah mudah\" pas 02...</td>\n",
       "      <td>meuni bingah ningalna ya kabehah mudah  pas   ...</td>\n",
       "    </tr>\n",
       "    <tr>\n",
       "      <th>2097</th>\n",
       "      <td>joy</td>\n",
       "      <td>Meuni atoh ningali adi lanceuk guyub kitu</td>\n",
       "      <td>meuni atoh ningali adi lanceuk guyub kitu</td>\n",
       "      <td>meuni atoh ningali adi lanceuk guyub kitu</td>\n",
       "      <td>meuni atoh ningali adi lanceuk guyub kitu</td>\n",
       "    </tr>\n",
       "  </tbody>\n",
       "</table>\n",
       "<p>2098 rows × 5 columns</p>\n",
       "</div>"
      ],
      "text/plain": [
       "      label                                               data  \\\n",
       "0     anger  sok geura leungit atuh sia teh corona, matak g...   \n",
       "1     anger  Nu katoel katuhu nu nyerina kenca, goblog wasitna   \n",
       "2       joy  Bingah pisan patepang sareng pangerasa. Sing k...   \n",
       "3      fear  asa hariwang kieu.. lalakon hirup teh asa nyor...   \n",
       "4     anger  Orang mana sih anying, sampis pisan. Bunuh ae ...   \n",
       "...     ...                                                ...   \n",
       "2093    joy     Meuni ngeunah ngabarakatak eeeuy uiiiiing....!   \n",
       "2094    joy  Meuni ku endah, tebeda nami na gusti nu agung,...   \n",
       "2095    joy  meuni bungah kieu euy meunang di ngalam, nuhun...   \n",
       "2096    joy  Meuni bingah ningalna ya alloh mudah\" PaS 02 k...   \n",
       "2097    joy          Meuni atoh ningali adi lanceuk guyub kitu   \n",
       "\n",
       "                                              lowercase  \\\n",
       "0     sok geura leungit atuh sia teh corona, matak g...   \n",
       "1     nu katoel katuhu nu nyerina kenca, goblog wasitna   \n",
       "2     bingah pisan patepang sareng pangerasa. sing k...   \n",
       "3     asa hariwang kieu.. lalakon hirup teh asa nyor...   \n",
       "4     orang mana sih anying, sampis pisan. bunuh ae ...   \n",
       "...                                                 ...   \n",
       "2093     meuni ngeunah ngabarakatak eeeuy uiiiiing....!   \n",
       "2094  meuni ku endah, tebeda nami na gusti nu agung,...   \n",
       "2095  meuni bungah kieu euy meunang di ngalam, nuhun...   \n",
       "2096  meuni bingah ningalna ya alloh mudah\" pas 02 k...   \n",
       "2097          meuni atoh ningali adi lanceuk guyub kitu   \n",
       "\n",
       "                                           mapping_dict  \\\n",
       "0     sok geura leungit atuh sia teh corona, matak g...   \n",
       "1     nu katoel katuhu nu nyerina kenca, goblog wasitna   \n",
       "2     bingah pisan patepang sareng pangerasa. sing k...   \n",
       "3     asa hariwang kieu.. lalakon hirup teh asa nyor...   \n",
       "4     orang mana sih anying, sampis pisan. bunuh ae ...   \n",
       "...                                                 ...   \n",
       "2093           meuni ngeunah ngabarakatak euy uing....!   \n",
       "2094  meuni ku endah, tebeda nami na gusti nu agung,...   \n",
       "2095  meuni bungah kieu euy meunang di ngalam, nuhun...   \n",
       "2096  meuni bingah ningalna ya kabehah mudah\" pas 02...   \n",
       "2097          meuni atoh ningali adi lanceuk guyub kitu   \n",
       "\n",
       "                                    remove_non_alphabet  \n",
       "0     sok geura leungit atuh sia teh corona  matak g...  \n",
       "1     nu katoel katuhu nu nyerina kenca  goblog wasitna  \n",
       "2     bingah pisan patepang sareng pangerasa  sing k...  \n",
       "3     asa hariwang kieu   lalakon hirup teh asa nyor...  \n",
       "4     orang mana sih anying  sampis pisan  bunuh ae ...  \n",
       "...                                                 ...  \n",
       "2093           meuni ngeunah ngabarakatak euy uing       \n",
       "2094  meuni ku endah  tebeda nami na gusti nu agung ...  \n",
       "2095  meuni bungah kieu euy meunang di ngalam  nuhun...  \n",
       "2096  meuni bingah ningalna ya kabehah mudah  pas   ...  \n",
       "2097          meuni atoh ningali adi lanceuk guyub kitu  \n",
       "\n",
       "[2098 rows x 5 columns]"
      ]
     },
     "execution_count": 163,
     "metadata": {},
     "output_type": "execute_result"
    }
   ],
   "source": [
    "data"
   ]
  },
  {
   "cell_type": "code",
   "execution_count": 164,
   "metadata": {},
   "outputs": [
    {
     "data": {
      "text/plain": [
       "label                                                                joy\n",
       "data                   Meuni bingah ningalna ya alloh mudah\" PaS 02 k...\n",
       "lowercase              meuni bingah ningalna ya alloh mudah\" pas 02 k...\n",
       "mapping_dict           meuni bingah ningalna ya kabehah mudah\" pas 02...\n",
       "remove_non_alphabet    meuni bingah ningalna ya kabehah mudah  pas   ...\n",
       "Name: 2096, dtype: object"
      ]
     },
     "execution_count": 164,
     "metadata": {},
     "output_type": "execute_result"
    }
   ],
   "source": [
    "data.loc[2096]"
   ]
  },
  {
   "cell_type": "markdown",
   "metadata": {},
   "source": [
    "### Remove whitespaces"
   ]
  },
  {
   "cell_type": "code",
   "execution_count": 165,
   "metadata": {},
   "outputs": [],
   "source": [
    "data['no_whitespace'] = data['remove_non_alphabet'].apply(lambda x: re.sub(r'\\s+', ' ', x))"
   ]
  },
  {
   "cell_type": "code",
   "execution_count": 166,
   "metadata": {},
   "outputs": [
    {
     "data": {
      "text/plain": [
       "label                                                                joy\n",
       "data                   Meuni bingah ningalna ya alloh mudah\" PaS 02 k...\n",
       "lowercase              meuni bingah ningalna ya alloh mudah\" pas 02 k...\n",
       "mapping_dict           meuni bingah ningalna ya kabehah mudah\" pas 02...\n",
       "remove_non_alphabet    meuni bingah ningalna ya kabehah mudah  pas   ...\n",
       "no_whitespace          meuni bingah ningalna ya kabehah mudah pas ken...\n",
       "Name: 2096, dtype: object"
      ]
     },
     "execution_count": 166,
     "metadata": {},
     "output_type": "execute_result"
    }
   ],
   "source": [
    "data.loc[2096]"
   ]
  },
  {
   "cell_type": "markdown",
   "metadata": {},
   "source": [
    "### Remove punctuation"
   ]
  },
  {
   "cell_type": "code",
   "execution_count": 167,
   "metadata": {},
   "outputs": [],
   "source": [
    "data['no_punctuation'] = data['no_whitespace'].apply(lambda x: re.sub(r'[^\\w\\s]', '', x))"
   ]
  },
  {
   "cell_type": "code",
   "execution_count": 168,
   "metadata": {},
   "outputs": [
    {
     "data": {
      "text/html": [
       "<div>\n",
       "<style scoped>\n",
       "    .dataframe tbody tr th:only-of-type {\n",
       "        vertical-align: middle;\n",
       "    }\n",
       "\n",
       "    .dataframe tbody tr th {\n",
       "        vertical-align: top;\n",
       "    }\n",
       "\n",
       "    .dataframe thead th {\n",
       "        text-align: right;\n",
       "    }\n",
       "</style>\n",
       "<table border=\"1\" class=\"dataframe\">\n",
       "  <thead>\n",
       "    <tr style=\"text-align: right;\">\n",
       "      <th></th>\n",
       "      <th>label</th>\n",
       "      <th>data</th>\n",
       "      <th>lowercase</th>\n",
       "      <th>mapping_dict</th>\n",
       "      <th>remove_non_alphabet</th>\n",
       "      <th>no_whitespace</th>\n",
       "      <th>no_punctuation</th>\n",
       "    </tr>\n",
       "  </thead>\n",
       "  <tbody>\n",
       "    <tr>\n",
       "      <th>0</th>\n",
       "      <td>anger</td>\n",
       "      <td>sok geura leungit atuh sia teh corona, matak g...</td>\n",
       "      <td>sok geura leungit atuh sia teh corona, matak g...</td>\n",
       "      <td>sok geura leungit atuh sia teh corona, matak g...</td>\n",
       "      <td>sok geura leungit atuh sia teh corona  matak g...</td>\n",
       "      <td>sok geura leungit atuh sia teh corona matak ge...</td>\n",
       "      <td>sok geura leungit atuh sia teh corona matak ge...</td>\n",
       "    </tr>\n",
       "    <tr>\n",
       "      <th>1</th>\n",
       "      <td>anger</td>\n",
       "      <td>Nu katoel katuhu nu nyerina kenca, goblog wasitna</td>\n",
       "      <td>nu katoel katuhu nu nyerina kenca, goblog wasitna</td>\n",
       "      <td>nu katoel katuhu nu nyerina kenca, goblog wasitna</td>\n",
       "      <td>nu katoel katuhu nu nyerina kenca  goblog wasitna</td>\n",
       "      <td>nu katoel katuhu nu nyerina kenca goblog wasitna</td>\n",
       "      <td>nu katoel katuhu nu nyerina kenca goblog wasitna</td>\n",
       "    </tr>\n",
       "    <tr>\n",
       "      <th>2</th>\n",
       "      <td>joy</td>\n",
       "      <td>Bingah pisan patepang sareng pangerasa. Sing k...</td>\n",
       "      <td>bingah pisan patepang sareng pangerasa. sing k...</td>\n",
       "      <td>bingah pisan patepang sareng pangerasa. sing k...</td>\n",
       "      <td>bingah pisan patepang sareng pangerasa  sing k...</td>\n",
       "      <td>bingah pisan patepang sareng pangerasa sing ka...</td>\n",
       "      <td>bingah pisan patepang sareng pangerasa sing ka...</td>\n",
       "    </tr>\n",
       "    <tr>\n",
       "      <th>3</th>\n",
       "      <td>fear</td>\n",
       "      <td>asa hariwang kieu.. lalakon hirup teh asa nyor...</td>\n",
       "      <td>asa hariwang kieu.. lalakon hirup teh asa nyor...</td>\n",
       "      <td>asa hariwang kieu.. lalakon hirup teh asa nyor...</td>\n",
       "      <td>asa hariwang kieu   lalakon hirup teh asa nyor...</td>\n",
       "      <td>asa hariwang kieu lalakon hirup teh asa nyoran...</td>\n",
       "      <td>asa hariwang kieu lalakon hirup teh asa nyoran...</td>\n",
       "    </tr>\n",
       "    <tr>\n",
       "      <th>4</th>\n",
       "      <td>anger</td>\n",
       "      <td>Orang mana sih anying, sampis pisan. Bunuh ae ...</td>\n",
       "      <td>orang mana sih anying, sampis pisan. bunuh ae ...</td>\n",
       "      <td>orang mana sih anying, sampis pisan. bunuh ae ...</td>\n",
       "      <td>orang mana sih anying  sampis pisan  bunuh ae ...</td>\n",
       "      <td>orang mana sih anying sampis pisan bunuh ae la...</td>\n",
       "      <td>orang mana sih anying sampis pisan bunuh ae la...</td>\n",
       "    </tr>\n",
       "    <tr>\n",
       "      <th>...</th>\n",
       "      <td>...</td>\n",
       "      <td>...</td>\n",
       "      <td>...</td>\n",
       "      <td>...</td>\n",
       "      <td>...</td>\n",
       "      <td>...</td>\n",
       "      <td>...</td>\n",
       "    </tr>\n",
       "    <tr>\n",
       "      <th>2093</th>\n",
       "      <td>joy</td>\n",
       "      <td>Meuni ngeunah ngabarakatak eeeuy uiiiiing....!</td>\n",
       "      <td>meuni ngeunah ngabarakatak eeeuy uiiiiing....!</td>\n",
       "      <td>meuni ngeunah ngabarakatak euy uing....!</td>\n",
       "      <td>meuni ngeunah ngabarakatak euy uing</td>\n",
       "      <td>meuni ngeunah ngabarakatak euy uing</td>\n",
       "      <td>meuni ngeunah ngabarakatak euy uing</td>\n",
       "    </tr>\n",
       "    <tr>\n",
       "      <th>2094</th>\n",
       "      <td>joy</td>\n",
       "      <td>Meuni ku endah, tebeda nami na gusti nu agung,...</td>\n",
       "      <td>meuni ku endah, tebeda nami na gusti nu agung,...</td>\n",
       "      <td>meuni ku endah, tebeda nami na gusti nu agung,...</td>\n",
       "      <td>meuni ku endah  tebeda nami na gusti nu agung ...</td>\n",
       "      <td>meuni ku endah tebeda nami na gusti nu agung d...</td>\n",
       "      <td>meuni ku endah tebeda nami na gusti nu agung d...</td>\n",
       "    </tr>\n",
       "    <tr>\n",
       "      <th>2095</th>\n",
       "      <td>joy</td>\n",
       "      <td>meuni bungah kieu euy meunang di ngalam, nuhun...</td>\n",
       "      <td>meuni bungah kieu euy meunang di ngalam, nuhun...</td>\n",
       "      <td>meuni bungah kieu euy meunang di ngalam, nuhun...</td>\n",
       "      <td>meuni bungah kieu euy meunang di ngalam  nuhun...</td>\n",
       "      <td>meuni bungah kieu euy meunang di ngalam nuhun ...</td>\n",
       "      <td>meuni bungah kieu euy meunang di ngalam nuhun ...</td>\n",
       "    </tr>\n",
       "    <tr>\n",
       "      <th>2096</th>\n",
       "      <td>joy</td>\n",
       "      <td>Meuni bingah ningalna ya alloh mudah\" PaS 02 k...</td>\n",
       "      <td>meuni bingah ningalna ya alloh mudah\" pas 02 k...</td>\n",
       "      <td>meuni bingah ningalna ya kabehah mudah\" pas 02...</td>\n",
       "      <td>meuni bingah ningalna ya kabehah mudah  pas   ...</td>\n",
       "      <td>meuni bingah ningalna ya kabehah mudah pas ken...</td>\n",
       "      <td>meuni bingah ningalna ya kabehah mudah pas ken...</td>\n",
       "    </tr>\n",
       "    <tr>\n",
       "      <th>2097</th>\n",
       "      <td>joy</td>\n",
       "      <td>Meuni atoh ningali adi lanceuk guyub kitu</td>\n",
       "      <td>meuni atoh ningali adi lanceuk guyub kitu</td>\n",
       "      <td>meuni atoh ningali adi lanceuk guyub kitu</td>\n",
       "      <td>meuni atoh ningali adi lanceuk guyub kitu</td>\n",
       "      <td>meuni atoh ningali adi lanceuk guyub kitu</td>\n",
       "      <td>meuni atoh ningali adi lanceuk guyub kitu</td>\n",
       "    </tr>\n",
       "  </tbody>\n",
       "</table>\n",
       "<p>2098 rows × 7 columns</p>\n",
       "</div>"
      ],
      "text/plain": [
       "      label                                               data  \\\n",
       "0     anger  sok geura leungit atuh sia teh corona, matak g...   \n",
       "1     anger  Nu katoel katuhu nu nyerina kenca, goblog wasitna   \n",
       "2       joy  Bingah pisan patepang sareng pangerasa. Sing k...   \n",
       "3      fear  asa hariwang kieu.. lalakon hirup teh asa nyor...   \n",
       "4     anger  Orang mana sih anying, sampis pisan. Bunuh ae ...   \n",
       "...     ...                                                ...   \n",
       "2093    joy     Meuni ngeunah ngabarakatak eeeuy uiiiiing....!   \n",
       "2094    joy  Meuni ku endah, tebeda nami na gusti nu agung,...   \n",
       "2095    joy  meuni bungah kieu euy meunang di ngalam, nuhun...   \n",
       "2096    joy  Meuni bingah ningalna ya alloh mudah\" PaS 02 k...   \n",
       "2097    joy          Meuni atoh ningali adi lanceuk guyub kitu   \n",
       "\n",
       "                                              lowercase  \\\n",
       "0     sok geura leungit atuh sia teh corona, matak g...   \n",
       "1     nu katoel katuhu nu nyerina kenca, goblog wasitna   \n",
       "2     bingah pisan patepang sareng pangerasa. sing k...   \n",
       "3     asa hariwang kieu.. lalakon hirup teh asa nyor...   \n",
       "4     orang mana sih anying, sampis pisan. bunuh ae ...   \n",
       "...                                                 ...   \n",
       "2093     meuni ngeunah ngabarakatak eeeuy uiiiiing....!   \n",
       "2094  meuni ku endah, tebeda nami na gusti nu agung,...   \n",
       "2095  meuni bungah kieu euy meunang di ngalam, nuhun...   \n",
       "2096  meuni bingah ningalna ya alloh mudah\" pas 02 k...   \n",
       "2097          meuni atoh ningali adi lanceuk guyub kitu   \n",
       "\n",
       "                                           mapping_dict  \\\n",
       "0     sok geura leungit atuh sia teh corona, matak g...   \n",
       "1     nu katoel katuhu nu nyerina kenca, goblog wasitna   \n",
       "2     bingah pisan patepang sareng pangerasa. sing k...   \n",
       "3     asa hariwang kieu.. lalakon hirup teh asa nyor...   \n",
       "4     orang mana sih anying, sampis pisan. bunuh ae ...   \n",
       "...                                                 ...   \n",
       "2093           meuni ngeunah ngabarakatak euy uing....!   \n",
       "2094  meuni ku endah, tebeda nami na gusti nu agung,...   \n",
       "2095  meuni bungah kieu euy meunang di ngalam, nuhun...   \n",
       "2096  meuni bingah ningalna ya kabehah mudah\" pas 02...   \n",
       "2097          meuni atoh ningali adi lanceuk guyub kitu   \n",
       "\n",
       "                                    remove_non_alphabet  \\\n",
       "0     sok geura leungit atuh sia teh corona  matak g...   \n",
       "1     nu katoel katuhu nu nyerina kenca  goblog wasitna   \n",
       "2     bingah pisan patepang sareng pangerasa  sing k...   \n",
       "3     asa hariwang kieu   lalakon hirup teh asa nyor...   \n",
       "4     orang mana sih anying  sampis pisan  bunuh ae ...   \n",
       "...                                                 ...   \n",
       "2093           meuni ngeunah ngabarakatak euy uing        \n",
       "2094  meuni ku endah  tebeda nami na gusti nu agung ...   \n",
       "2095  meuni bungah kieu euy meunang di ngalam  nuhun...   \n",
       "2096  meuni bingah ningalna ya kabehah mudah  pas   ...   \n",
       "2097          meuni atoh ningali adi lanceuk guyub kitu   \n",
       "\n",
       "                                          no_whitespace  \\\n",
       "0     sok geura leungit atuh sia teh corona matak ge...   \n",
       "1      nu katoel katuhu nu nyerina kenca goblog wasitna   \n",
       "2     bingah pisan patepang sareng pangerasa sing ka...   \n",
       "3     asa hariwang kieu lalakon hirup teh asa nyoran...   \n",
       "4     orang mana sih anying sampis pisan bunuh ae la...   \n",
       "...                                                 ...   \n",
       "2093               meuni ngeunah ngabarakatak euy uing    \n",
       "2094  meuni ku endah tebeda nami na gusti nu agung d...   \n",
       "2095  meuni bungah kieu euy meunang di ngalam nuhun ...   \n",
       "2096  meuni bingah ningalna ya kabehah mudah pas ken...   \n",
       "2097          meuni atoh ningali adi lanceuk guyub kitu   \n",
       "\n",
       "                                         no_punctuation  \n",
       "0     sok geura leungit atuh sia teh corona matak ge...  \n",
       "1      nu katoel katuhu nu nyerina kenca goblog wasitna  \n",
       "2     bingah pisan patepang sareng pangerasa sing ka...  \n",
       "3     asa hariwang kieu lalakon hirup teh asa nyoran...  \n",
       "4     orang mana sih anying sampis pisan bunuh ae la...  \n",
       "...                                                 ...  \n",
       "2093               meuni ngeunah ngabarakatak euy uing   \n",
       "2094  meuni ku endah tebeda nami na gusti nu agung d...  \n",
       "2095  meuni bungah kieu euy meunang di ngalam nuhun ...  \n",
       "2096  meuni bingah ningalna ya kabehah mudah pas ken...  \n",
       "2097          meuni atoh ningali adi lanceuk guyub kitu  \n",
       "\n",
       "[2098 rows x 7 columns]"
      ]
     },
     "execution_count": 168,
     "metadata": {},
     "output_type": "execute_result"
    }
   ],
   "source": [
    "data"
   ]
  },
  {
   "cell_type": "markdown",
   "metadata": {},
   "source": [
    "### Apply standardized words"
   ]
  },
  {
   "cell_type": "markdown",
   "metadata": {},
   "source": [
    "#### Cosine similarity to correct the words"
   ]
  },
  {
   "cell_type": "code",
   "execution_count": 169,
   "metadata": {},
   "outputs": [],
   "source": [
    "from sklearn.metrics.pairwise import cosine_similarity\n",
    "from sklearn.feature_extraction.text import TfidfVectorizer\n",
    "import numpy as np"
   ]
  },
  {
   "cell_type": "code",
   "execution_count": 170,
   "metadata": {},
   "outputs": [],
   "source": [
    "standardized_word = pd.read_csv('../Dataset/standardized_word.csv')"
   ]
  },
  {
   "cell_type": "code",
   "execution_count": 171,
   "metadata": {},
   "outputs": [],
   "source": [
    "standardized_list = standardized_word['standard'].tolist()"
   ]
  },
  {
   "cell_type": "code",
   "execution_count": 172,
   "metadata": {},
   "outputs": [],
   "source": [
    "vectorizer = TfidfVectorizer()\n",
    "standardized_vector = vectorizer.fit_transform(standardized_list)"
   ]
  },
  {
   "cell_type": "code",
   "execution_count": 173,
   "metadata": {},
   "outputs": [],
   "source": [
    "def optimized_standardize_words(text, standardized_list, standardized_vectors):\n",
    "    words = text.split()\n",
    "    standardized_text = []\n",
    "    \n",
    "    for word in words:\n",
    "        word_vector = vectorizer.transform([word])\n",
    "        \n",
    "        similarities = cosine_similarity(word_vector, standardized_vectors).flatten()\n",
    "        \n",
    "        max_similarity = max(similarities)\n",
    "        if max_similarity > 0.7:\n",
    "            best_match = standardized_list[np.argmax(similarities)]\n",
    "        else:\n",
    "            best_match = word\n",
    "        \n",
    "        standardized_text.append(best_match)\n",
    "    \n",
    "    return \" \".join(standardized_text)"
   ]
  },
  {
   "cell_type": "code",
   "execution_count": 174,
   "metadata": {},
   "outputs": [],
   "source": [
    "data['standardized_word'] = data['no_punctuation'].apply(\n",
    "    lambda x: optimized_standardize_words(x, standardized_list, standardized_vector)\n",
    ")"
   ]
  },
  {
   "cell_type": "code",
   "execution_count": 175,
   "metadata": {},
   "outputs": [
    {
     "data": {
      "text/plain": [
       "label                                                              anger\n",
       "data                   sok geura leungit atuh sia teh corona, matak g...\n",
       "lowercase              sok geura leungit atuh sia teh corona, matak g...\n",
       "mapping_dict           sok geura leungit atuh sia teh corona, matak g...\n",
       "remove_non_alphabet    sok geura leungit atuh sia teh corona  matak g...\n",
       "no_whitespace          sok geura leungit atuh sia teh corona matak ge...\n",
       "no_punctuation         sok geura leungit atuh sia teh corona matak ge...\n",
       "standardized_word      sok geura-giru leungit atuh sia teh corona mat...\n",
       "Name: 0, dtype: object"
      ]
     },
     "execution_count": 175,
     "metadata": {},
     "output_type": "execute_result"
    }
   ],
   "source": [
    "data.loc[0]"
   ]
  },
  {
   "cell_type": "markdown",
   "metadata": {},
   "source": [
    "### Stopwords"
   ]
  },
  {
   "cell_type": "code",
   "execution_count": 176,
   "metadata": {},
   "outputs": [],
   "source": [
    "data['stopwords'] = data['standardized_word'].apply(lambda x: ' '.join([word for word in x.split() if word not in custom_stopwords]))"
   ]
  },
  {
   "cell_type": "markdown",
   "metadata": {},
   "source": [
    "### Tokenizing"
   ]
  },
  {
   "cell_type": "code",
   "execution_count": 177,
   "metadata": {},
   "outputs": [],
   "source": [
    "data['tokenized'] = data['stopwords'].apply(lambda x: x.split())"
   ]
  },
  {
   "cell_type": "code",
   "execution_count": 178,
   "metadata": {},
   "outputs": [
    {
     "data": {
      "text/html": [
       "<div>\n",
       "<style scoped>\n",
       "    .dataframe tbody tr th:only-of-type {\n",
       "        vertical-align: middle;\n",
       "    }\n",
       "\n",
       "    .dataframe tbody tr th {\n",
       "        vertical-align: top;\n",
       "    }\n",
       "\n",
       "    .dataframe thead th {\n",
       "        text-align: right;\n",
       "    }\n",
       "</style>\n",
       "<table border=\"1\" class=\"dataframe\">\n",
       "  <thead>\n",
       "    <tr style=\"text-align: right;\">\n",
       "      <th></th>\n",
       "      <th>label</th>\n",
       "      <th>data</th>\n",
       "      <th>lowercase</th>\n",
       "      <th>mapping_dict</th>\n",
       "      <th>remove_non_alphabet</th>\n",
       "      <th>no_whitespace</th>\n",
       "      <th>no_punctuation</th>\n",
       "      <th>standardized_word</th>\n",
       "      <th>stopwords</th>\n",
       "      <th>tokenized</th>\n",
       "    </tr>\n",
       "  </thead>\n",
       "  <tbody>\n",
       "    <tr>\n",
       "      <th>0</th>\n",
       "      <td>anger</td>\n",
       "      <td>sok geura leungit atuh sia teh corona, matak g...</td>\n",
       "      <td>sok geura leungit atuh sia teh corona, matak g...</td>\n",
       "      <td>sok geura leungit atuh sia teh corona, matak g...</td>\n",
       "      <td>sok geura leungit atuh sia teh corona  matak g...</td>\n",
       "      <td>sok geura leungit atuh sia teh corona matak ge...</td>\n",
       "      <td>sok geura leungit atuh sia teh corona matak ge...</td>\n",
       "      <td>sok geura-giru leungit atuh sia teh corona mat...</td>\n",
       "      <td>geura-giru leungit corona gelo yeuh uhenteul p...</td>\n",
       "      <td>[geura-giru, leungit, corona, gelo, yeuh, uhen...</td>\n",
       "    </tr>\n",
       "    <tr>\n",
       "      <th>1</th>\n",
       "      <td>anger</td>\n",
       "      <td>Nu katoel katuhu nu nyerina kenca, goblog wasitna</td>\n",
       "      <td>nu katoel katuhu nu nyerina kenca, goblog wasitna</td>\n",
       "      <td>nu katoel katuhu nu nyerina kenca, goblog wasitna</td>\n",
       "      <td>nu katoel katuhu nu nyerina kenca  goblog wasitna</td>\n",
       "      <td>nu katoel katuhu nu nyerina kenca goblog wasitna</td>\n",
       "      <td>nu katoel katuhu nu nyerina kenca goblog wasitna</td>\n",
       "      <td>nu boga katoel katuhu nu boga nyerina kenca go...</td>\n",
       "      <td>boga katoel katuhu boga nyerina kenca wasitna</td>\n",
       "      <td>[boga, katoel, katuhu, boga, nyerina, kenca, w...</td>\n",
       "    </tr>\n",
       "    <tr>\n",
       "      <th>2</th>\n",
       "      <td>joy</td>\n",
       "      <td>Bingah pisan patepang sareng pangerasa. Sing k...</td>\n",
       "      <td>bingah pisan patepang sareng pangerasa. sing k...</td>\n",
       "      <td>bingah pisan patepang sareng pangerasa. sing k...</td>\n",
       "      <td>bingah pisan patepang sareng pangerasa  sing k...</td>\n",
       "      <td>bingah pisan patepang sareng pangerasa sing ka...</td>\n",
       "      <td>bingah pisan patepang sareng pangerasa sing ka...</td>\n",
       "      <td>bingah pisan patepang sareng pangerasa sing sa...</td>\n",
       "      <td>bingah patepang pangerasa sing katampi kalayan...</td>\n",
       "      <td>[bingah, patepang, pangerasa, sing, katampi, k...</td>\n",
       "    </tr>\n",
       "    <tr>\n",
       "      <th>3</th>\n",
       "      <td>fear</td>\n",
       "      <td>asa hariwang kieu.. lalakon hirup teh asa nyor...</td>\n",
       "      <td>asa hariwang kieu.. lalakon hirup teh asa nyor...</td>\n",
       "      <td>asa hariwang kieu.. lalakon hirup teh asa nyor...</td>\n",
       "      <td>asa hariwang kieu   lalakon hirup teh asa nyor...</td>\n",
       "      <td>asa hariwang kieu lalakon hirup teh asa nyoran...</td>\n",
       "      <td>asa hariwang kieu lalakon hirup teh asa nyoran...</td>\n",
       "      <td>asa hariwang kieu lalakon hirup teh asa nyoran...</td>\n",
       "      <td>hariwang lalakon hirup nyorangan</td>\n",
       "      <td>[hariwang, lalakon, hirup, nyorangan]</td>\n",
       "    </tr>\n",
       "    <tr>\n",
       "      <th>4</th>\n",
       "      <td>anger</td>\n",
       "      <td>Orang mana sih anying, sampis pisan. Bunuh ae ...</td>\n",
       "      <td>orang mana sih anying, sampis pisan. bunuh ae ...</td>\n",
       "      <td>orang mana sih anying, sampis pisan. bunuh ae ...</td>\n",
       "      <td>orang mana sih anying  sampis pisan  bunuh ae ...</td>\n",
       "      <td>orang mana sih anying sampis pisan bunuh ae la...</td>\n",
       "      <td>orang mana sih anying sampis pisan bunuh ae la...</td>\n",
       "      <td>orang mana sih anying sampis pisan bunuh ae la...</td>\n",
       "      <td>anying sampis bunuh ae bunuh</td>\n",
       "      <td>[anying, sampis, bunuh, ae, bunuh]</td>\n",
       "    </tr>\n",
       "    <tr>\n",
       "      <th>...</th>\n",
       "      <td>...</td>\n",
       "      <td>...</td>\n",
       "      <td>...</td>\n",
       "      <td>...</td>\n",
       "      <td>...</td>\n",
       "      <td>...</td>\n",
       "      <td>...</td>\n",
       "      <td>...</td>\n",
       "      <td>...</td>\n",
       "      <td>...</td>\n",
       "    </tr>\n",
       "    <tr>\n",
       "      <th>2093</th>\n",
       "      <td>joy</td>\n",
       "      <td>Meuni ngeunah ngabarakatak eeeuy uiiiiing....!</td>\n",
       "      <td>meuni ngeunah ngabarakatak eeeuy uiiiiing....!</td>\n",
       "      <td>meuni ngeunah ngabarakatak euy uing....!</td>\n",
       "      <td>meuni ngeunah ngabarakatak euy uing</td>\n",
       "      <td>meuni ngeunah ngabarakatak euy uing</td>\n",
       "      <td>meuni ngeunah ngabarakatak euy uing</td>\n",
       "      <td>meuni ngeunah ngabarakatak euy uing</td>\n",
       "      <td>meuni ngeunah ngabarakatak</td>\n",
       "      <td>[meuni, ngeunah, ngabarakatak]</td>\n",
       "    </tr>\n",
       "    <tr>\n",
       "      <th>2094</th>\n",
       "      <td>joy</td>\n",
       "      <td>Meuni ku endah, tebeda nami na gusti nu agung,...</td>\n",
       "      <td>meuni ku endah, tebeda nami na gusti nu agung,...</td>\n",
       "      <td>meuni ku endah, tebeda nami na gusti nu agung,...</td>\n",
       "      <td>meuni ku endah  tebeda nami na gusti nu agung ...</td>\n",
       "      <td>meuni ku endah tebeda nami na gusti nu agung d...</td>\n",
       "      <td>meuni ku endah tebeda nami na gusti nu agung d...</td>\n",
       "      <td>meuni ku endah tebeda nami na gusti nu boga ag...</td>\n",
       "      <td>meuni endah tebeda nami boga agung dimana bumi...</td>\n",
       "      <td>[meuni, endah, tebeda, nami, boga, agung, dima...</td>\n",
       "    </tr>\n",
       "    <tr>\n",
       "      <th>2095</th>\n",
       "      <td>joy</td>\n",
       "      <td>meuni bungah kieu euy meunang di ngalam, nuhun...</td>\n",
       "      <td>meuni bungah kieu euy meunang di ngalam, nuhun...</td>\n",
       "      <td>meuni bungah kieu euy meunang di ngalam, nuhun...</td>\n",
       "      <td>meuni bungah kieu euy meunang di ngalam  nuhun...</td>\n",
       "      <td>meuni bungah kieu euy meunang di ngalam nuhun ...</td>\n",
       "      <td>meuni bungah kieu euy meunang di ngalam nuhun ...</td>\n",
       "      <td>meuni bungah kieu euy meunang di ngalam hatur ...</td>\n",
       "      <td>meuni bungah meunang ngalam hatur nuhun hatur ...</td>\n",
       "      <td>[meuni, bungah, meunang, ngalam, hatur, nuhun,...</td>\n",
       "    </tr>\n",
       "    <tr>\n",
       "      <th>2096</th>\n",
       "      <td>joy</td>\n",
       "      <td>Meuni bingah ningalna ya alloh mudah\" PaS 02 k...</td>\n",
       "      <td>meuni bingah ningalna ya alloh mudah\" pas 02 k...</td>\n",
       "      <td>meuni bingah ningalna ya kabehah mudah\" pas 02...</td>\n",
       "      <td>meuni bingah ningalna ya kabehah mudah  pas   ...</td>\n",
       "      <td>meuni bingah ningalna ya kabehah mudah pas ken...</td>\n",
       "      <td>meuni bingah ningalna ya kabehah mudah pas ken...</td>\n",
       "      <td>meuni bingah ningalna ya kabehah mudah pas ken...</td>\n",
       "      <td>meuni bingah ningalna kabehah mudah pas kengen...</td>\n",
       "      <td>[meuni, bingah, ningalna, kabehah, mudah, pas,...</td>\n",
       "    </tr>\n",
       "    <tr>\n",
       "      <th>2097</th>\n",
       "      <td>joy</td>\n",
       "      <td>Meuni atoh ningali adi lanceuk guyub kitu</td>\n",
       "      <td>meuni atoh ningali adi lanceuk guyub kitu</td>\n",
       "      <td>meuni atoh ningali adi lanceuk guyub kitu</td>\n",
       "      <td>meuni atoh ningali adi lanceuk guyub kitu</td>\n",
       "      <td>meuni atoh ningali adi lanceuk guyub kitu</td>\n",
       "      <td>meuni atoh ningali adi lanceuk guyub kitu</td>\n",
       "      <td>meuni atoh ningali adi lanceuk guyub kitu</td>\n",
       "      <td>meuni atoh ningali adi lanceuk guyub</td>\n",
       "      <td>[meuni, atoh, ningali, adi, lanceuk, guyub]</td>\n",
       "    </tr>\n",
       "  </tbody>\n",
       "</table>\n",
       "<p>2098 rows × 10 columns</p>\n",
       "</div>"
      ],
      "text/plain": [
       "      label                                               data  \\\n",
       "0     anger  sok geura leungit atuh sia teh corona, matak g...   \n",
       "1     anger  Nu katoel katuhu nu nyerina kenca, goblog wasitna   \n",
       "2       joy  Bingah pisan patepang sareng pangerasa. Sing k...   \n",
       "3      fear  asa hariwang kieu.. lalakon hirup teh asa nyor...   \n",
       "4     anger  Orang mana sih anying, sampis pisan. Bunuh ae ...   \n",
       "...     ...                                                ...   \n",
       "2093    joy     Meuni ngeunah ngabarakatak eeeuy uiiiiing....!   \n",
       "2094    joy  Meuni ku endah, tebeda nami na gusti nu agung,...   \n",
       "2095    joy  meuni bungah kieu euy meunang di ngalam, nuhun...   \n",
       "2096    joy  Meuni bingah ningalna ya alloh mudah\" PaS 02 k...   \n",
       "2097    joy          Meuni atoh ningali adi lanceuk guyub kitu   \n",
       "\n",
       "                                              lowercase  \\\n",
       "0     sok geura leungit atuh sia teh corona, matak g...   \n",
       "1     nu katoel katuhu nu nyerina kenca, goblog wasitna   \n",
       "2     bingah pisan patepang sareng pangerasa. sing k...   \n",
       "3     asa hariwang kieu.. lalakon hirup teh asa nyor...   \n",
       "4     orang mana sih anying, sampis pisan. bunuh ae ...   \n",
       "...                                                 ...   \n",
       "2093     meuni ngeunah ngabarakatak eeeuy uiiiiing....!   \n",
       "2094  meuni ku endah, tebeda nami na gusti nu agung,...   \n",
       "2095  meuni bungah kieu euy meunang di ngalam, nuhun...   \n",
       "2096  meuni bingah ningalna ya alloh mudah\" pas 02 k...   \n",
       "2097          meuni atoh ningali adi lanceuk guyub kitu   \n",
       "\n",
       "                                           mapping_dict  \\\n",
       "0     sok geura leungit atuh sia teh corona, matak g...   \n",
       "1     nu katoel katuhu nu nyerina kenca, goblog wasitna   \n",
       "2     bingah pisan patepang sareng pangerasa. sing k...   \n",
       "3     asa hariwang kieu.. lalakon hirup teh asa nyor...   \n",
       "4     orang mana sih anying, sampis pisan. bunuh ae ...   \n",
       "...                                                 ...   \n",
       "2093           meuni ngeunah ngabarakatak euy uing....!   \n",
       "2094  meuni ku endah, tebeda nami na gusti nu agung,...   \n",
       "2095  meuni bungah kieu euy meunang di ngalam, nuhun...   \n",
       "2096  meuni bingah ningalna ya kabehah mudah\" pas 02...   \n",
       "2097          meuni atoh ningali adi lanceuk guyub kitu   \n",
       "\n",
       "                                    remove_non_alphabet  \\\n",
       "0     sok geura leungit atuh sia teh corona  matak g...   \n",
       "1     nu katoel katuhu nu nyerina kenca  goblog wasitna   \n",
       "2     bingah pisan patepang sareng pangerasa  sing k...   \n",
       "3     asa hariwang kieu   lalakon hirup teh asa nyor...   \n",
       "4     orang mana sih anying  sampis pisan  bunuh ae ...   \n",
       "...                                                 ...   \n",
       "2093           meuni ngeunah ngabarakatak euy uing        \n",
       "2094  meuni ku endah  tebeda nami na gusti nu agung ...   \n",
       "2095  meuni bungah kieu euy meunang di ngalam  nuhun...   \n",
       "2096  meuni bingah ningalna ya kabehah mudah  pas   ...   \n",
       "2097          meuni atoh ningali adi lanceuk guyub kitu   \n",
       "\n",
       "                                          no_whitespace  \\\n",
       "0     sok geura leungit atuh sia teh corona matak ge...   \n",
       "1      nu katoel katuhu nu nyerina kenca goblog wasitna   \n",
       "2     bingah pisan patepang sareng pangerasa sing ka...   \n",
       "3     asa hariwang kieu lalakon hirup teh asa nyoran...   \n",
       "4     orang mana sih anying sampis pisan bunuh ae la...   \n",
       "...                                                 ...   \n",
       "2093               meuni ngeunah ngabarakatak euy uing    \n",
       "2094  meuni ku endah tebeda nami na gusti nu agung d...   \n",
       "2095  meuni bungah kieu euy meunang di ngalam nuhun ...   \n",
       "2096  meuni bingah ningalna ya kabehah mudah pas ken...   \n",
       "2097          meuni atoh ningali adi lanceuk guyub kitu   \n",
       "\n",
       "                                         no_punctuation  \\\n",
       "0     sok geura leungit atuh sia teh corona matak ge...   \n",
       "1      nu katoel katuhu nu nyerina kenca goblog wasitna   \n",
       "2     bingah pisan patepang sareng pangerasa sing ka...   \n",
       "3     asa hariwang kieu lalakon hirup teh asa nyoran...   \n",
       "4     orang mana sih anying sampis pisan bunuh ae la...   \n",
       "...                                                 ...   \n",
       "2093               meuni ngeunah ngabarakatak euy uing    \n",
       "2094  meuni ku endah tebeda nami na gusti nu agung d...   \n",
       "2095  meuni bungah kieu euy meunang di ngalam nuhun ...   \n",
       "2096  meuni bingah ningalna ya kabehah mudah pas ken...   \n",
       "2097          meuni atoh ningali adi lanceuk guyub kitu   \n",
       "\n",
       "                                      standardized_word  \\\n",
       "0     sok geura-giru leungit atuh sia teh corona mat...   \n",
       "1     nu boga katoel katuhu nu boga nyerina kenca go...   \n",
       "2     bingah pisan patepang sareng pangerasa sing sa...   \n",
       "3     asa hariwang kieu lalakon hirup teh asa nyoran...   \n",
       "4     orang mana sih anying sampis pisan bunuh ae la...   \n",
       "...                                                 ...   \n",
       "2093                meuni ngeunah ngabarakatak euy uing   \n",
       "2094  meuni ku endah tebeda nami na gusti nu boga ag...   \n",
       "2095  meuni bungah kieu euy meunang di ngalam hatur ...   \n",
       "2096  meuni bingah ningalna ya kabehah mudah pas ken...   \n",
       "2097          meuni atoh ningali adi lanceuk guyub kitu   \n",
       "\n",
       "                                              stopwords  \\\n",
       "0     geura-giru leungit corona gelo yeuh uhenteul p...   \n",
       "1         boga katoel katuhu boga nyerina kenca wasitna   \n",
       "2     bingah patepang pangerasa sing katampi kalayan...   \n",
       "3                      hariwang lalakon hirup nyorangan   \n",
       "4                          anying sampis bunuh ae bunuh   \n",
       "...                                                 ...   \n",
       "2093                         meuni ngeunah ngabarakatak   \n",
       "2094  meuni endah tebeda nami boga agung dimana bumi...   \n",
       "2095  meuni bungah meunang ngalam hatur nuhun hatur ...   \n",
       "2096  meuni bingah ningalna kabehah mudah pas kengen...   \n",
       "2097               meuni atoh ningali adi lanceuk guyub   \n",
       "\n",
       "                                              tokenized  \n",
       "0     [geura-giru, leungit, corona, gelo, yeuh, uhen...  \n",
       "1     [boga, katoel, katuhu, boga, nyerina, kenca, w...  \n",
       "2     [bingah, patepang, pangerasa, sing, katampi, k...  \n",
       "3                 [hariwang, lalakon, hirup, nyorangan]  \n",
       "4                    [anying, sampis, bunuh, ae, bunuh]  \n",
       "...                                                 ...  \n",
       "2093                     [meuni, ngeunah, ngabarakatak]  \n",
       "2094  [meuni, endah, tebeda, nami, boga, agung, dima...  \n",
       "2095  [meuni, bungah, meunang, ngalam, hatur, nuhun,...  \n",
       "2096  [meuni, bingah, ningalna, kabehah, mudah, pas,...  \n",
       "2097        [meuni, atoh, ningali, adi, lanceuk, guyub]  \n",
       "\n",
       "[2098 rows x 10 columns]"
      ]
     },
     "execution_count": 178,
     "metadata": {},
     "output_type": "execute_result"
    }
   ],
   "source": [
    "data"
   ]
  },
  {
   "cell_type": "markdown",
   "metadata": {},
   "source": [
    "## Model LSTM"
   ]
  },
  {
   "cell_type": "markdown",
   "metadata": {},
   "source": [
    "### Import the important library"
   ]
  },
  {
   "cell_type": "code",
   "execution_count": 179,
   "metadata": {},
   "outputs": [],
   "source": [
    "import numpy as np\n",
    "import tensorflow as tf\n",
    "from tensorflow.keras.models import Sequential\n",
    "from tensorflow.keras.layers import LSTM, Dense, Embedding, Dropout, Bidirectional\n",
    "from tensorflow.keras.preprocessing.text import Tokenizer\n",
    "from tensorflow.keras.preprocessing.sequence import pad_sequences\n",
    "from sklearn.model_selection import train_test_split\n",
    "from sklearn.preprocessing import LabelEncoder\n",
    "from tensorflow.keras.callbacks import EarlyStopping, LearningRateScheduler\n",
    "from tensorflow.keras.regularizers import l2\n",
    "from tensorflow.keras.callbacks import ReduceLROnPlateau, ModelCheckpoint\n",
    "from tensorflow.keras.layers import BatchNormalization\n",
    "from tensorflow.keras.layers import GaussianNoise\n",
    "from sklearn.utils import class_weight\n",
    "from sklearn.utils.class_weight import compute_class_weight\n"
   ]
  },
  {
   "cell_type": "markdown",
   "metadata": {},
   "source": [
    "### Define variable"
   ]
  },
  {
   "cell_type": "code",
   "execution_count": 180,
   "metadata": {},
   "outputs": [],
   "source": [
    "texts = data['tokenized'].tolist()\n",
    "labels = data['label'].tolist()"
   ]
  },
  {
   "cell_type": "code",
   "execution_count": 181,
   "metadata": {},
   "outputs": [
    {
     "data": {
      "text/plain": [
       "(2098, 2098)"
      ]
     },
     "execution_count": 181,
     "metadata": {},
     "output_type": "execute_result"
    }
   ],
   "source": [
    "len(texts), len(labels)"
   ]
  },
  {
   "cell_type": "code",
   "execution_count": 182,
   "metadata": {},
   "outputs": [],
   "source": [
    "all_words = [word for tokens in texts for word in tokens]\n",
    "unique_words = list(set(all_words))\n",
    "word_index = {word: i + 1 for i, word in enumerate(unique_words)}"
   ]
  },
  {
   "cell_type": "code",
   "execution_count": 183,
   "metadata": {},
   "outputs": [],
   "source": [
    "sequences = [[word_index[word] for word in tokens if word in word_index] for tokens in texts]"
   ]
  },
  {
   "cell_type": "code",
   "execution_count": 184,
   "metadata": {},
   "outputs": [],
   "source": [
    "max_length = max(len(seq) for seq in sequences)\n",
    "padded_sequences = pad_sequences(sequences, maxlen=max_length, padding='post')"
   ]
  },
  {
   "cell_type": "code",
   "execution_count": 185,
   "metadata": {},
   "outputs": [],
   "source": [
    "label_encoder = LabelEncoder()\n",
    "encoded_labels = label_encoder.fit_transform(labels)"
   ]
  },
  {
   "cell_type": "code",
   "execution_count": 186,
   "metadata": {},
   "outputs": [],
   "source": [
    "X_train, X_test, y_train, y_test = train_test_split(padded_sequences, encoded_labels, test_size=0.2, random_state=42)"
   ]
  },
  {
   "cell_type": "markdown",
   "metadata": {},
   "source": [
    "#### Weighted classes"
   ]
  },
  {
   "cell_type": "code",
   "execution_count": 187,
   "metadata": {},
   "outputs": [],
   "source": [
    "class_weights = compute_class_weight(\n",
    "    class_weight='balanced',\n",
    "    classes=np.unique(y_train),\n",
    "    y=y_train\n",
    ")\n",
    "class_weight_dict = dict(enumerate(class_weights))"
   ]
  },
  {
   "cell_type": "code",
   "execution_count": 188,
   "metadata": {},
   "outputs": [
    {
     "data": {
      "text/plain": [
       "{0: np.float64(1.0256723716381417),\n",
       " 1: np.float64(1.0409429280397022),\n",
       " 2: np.float64(0.9710648148148148),\n",
       " 3: np.float64(0.966589861751152)}"
      ]
     },
     "execution_count": 188,
     "metadata": {},
     "output_type": "execute_result"
    }
   ],
   "source": [
    "class_weight_dict"
   ]
  },
  {
   "cell_type": "code",
   "execution_count": 189,
   "metadata": {},
   "outputs": [
    {
     "name": "stderr",
     "output_type": "stream",
     "text": [
      "/Users/mac/Library/Python/3.9/lib/python/site-packages/keras/src/layers/core/embedding.py:90: UserWarning: Argument `input_length` is deprecated. Just remove it.\n",
      "  warnings.warn(\n"
     ]
    }
   ],
   "source": [
    "model = Sequential()\n",
    "model.add(Embedding(input_dim=len(word_index) + 1, output_dim=128, input_length=max_length))\n",
    "model.add(Bidirectional(LSTM(128, return_sequences=True, kernel_regularizer=l2(0.01))))\n",
    "model.add(Dropout(0.5))\n",
    "model.add(BatchNormalization())\n",
    "model.add(LSTM(64, return_sequences=False, kernel_regularizer=l2(0.01)))\n",
    "model.add(Dropout(0.5))\n",
    "model.add(Dense(128, activation='relu', kernel_regularizer=l2(0.01)))\n",
    "model.add(Dropout(0.3))\n",
    "model.add(Dense(len(set(encoded_labels)), activation='softmax'))"
   ]
  },
  {
   "cell_type": "code",
   "execution_count": 190,
   "metadata": {},
   "outputs": [],
   "source": [
    "model.compile(optimizer=tf.keras.optimizers.Adam(learning_rate=0.0001, clipnorm=1.0), loss='sparse_categorical_crossentropy', metrics=['accuracy'])"
   ]
  },
  {
   "cell_type": "code",
   "execution_count": 191,
   "metadata": {},
   "outputs": [],
   "source": [
    "reduce_lr = ReduceLROnPlateau(monitor='val_loss', factor=0.5, patience=2, min_lr=1e-6)"
   ]
  },
  {
   "cell_type": "code",
   "execution_count": 192,
   "metadata": {},
   "outputs": [],
   "source": [
    "early_stopping = EarlyStopping(monitor='val_loss', patience=5, restore_best_weights=True)"
   ]
  },
  {
   "cell_type": "code",
   "execution_count": 193,
   "metadata": {},
   "outputs": [
    {
     "name": "stdout",
     "output_type": "stream",
     "text": [
      "Epoch 1/50\n",
      "\u001b[1m48/48\u001b[0m \u001b[32m━━━━━━━━━━━━━━━━━━━━\u001b[0m\u001b[37m\u001b[0m \u001b[1m6s\u001b[0m 59ms/step - accuracy: 0.2522 - loss: 8.7003 - val_accuracy: 0.2976 - val_loss: 8.0939 - learning_rate: 1.0000e-04\n",
      "Epoch 2/50\n",
      "\u001b[1m48/48\u001b[0m \u001b[32m━━━━━━━━━━━━━━━━━━━━\u001b[0m\u001b[37m\u001b[0m \u001b[1m3s\u001b[0m 57ms/step - accuracy: 0.2414 - loss: 7.9238 - val_accuracy: 0.1964 - val_loss: 7.3835 - learning_rate: 1.0000e-04\n",
      "Epoch 3/50\n",
      "\u001b[1m48/48\u001b[0m \u001b[32m━━━━━━━━━━━━━━━━━━━━\u001b[0m\u001b[37m\u001b[0m \u001b[1m4s\u001b[0m 77ms/step - accuracy: 0.2387 - loss: 7.2294 - val_accuracy: 0.2143 - val_loss: 6.7496 - learning_rate: 1.0000e-04\n",
      "Epoch 4/50\n",
      "\u001b[1m48/48\u001b[0m \u001b[32m━━━━━━━━━━━━━━━━━━━━\u001b[0m\u001b[37m\u001b[0m \u001b[1m4s\u001b[0m 84ms/step - accuracy: 0.2371 - loss: 6.6119 - val_accuracy: 0.2202 - val_loss: 6.1833 - learning_rate: 1.0000e-04\n",
      "Epoch 5/50\n",
      "\u001b[1m48/48\u001b[0m \u001b[32m━━━━━━━━━━━━━━━━━━━━\u001b[0m\u001b[37m\u001b[0m \u001b[1m4s\u001b[0m 74ms/step - accuracy: 0.2691 - loss: 6.0570 - val_accuracy: 0.2202 - val_loss: 5.6780 - learning_rate: 1.0000e-04\n",
      "Epoch 6/50\n",
      "\u001b[1m48/48\u001b[0m \u001b[32m━━━━━━━━━━━━━━━━━━━━\u001b[0m\u001b[37m\u001b[0m \u001b[1m4s\u001b[0m 77ms/step - accuracy: 0.2421 - loss: 5.5689 - val_accuracy: 0.2202 - val_loss: 5.2269 - learning_rate: 1.0000e-04\n",
      "Epoch 7/50\n",
      "\u001b[1m48/48\u001b[0m \u001b[32m━━━━━━━━━━━━━━━━━━━━\u001b[0m\u001b[37m\u001b[0m \u001b[1m4s\u001b[0m 78ms/step - accuracy: 0.2367 - loss: 5.1249 - val_accuracy: 0.2024 - val_loss: 4.8242 - learning_rate: 1.0000e-04\n",
      "Epoch 8/50\n",
      "\u001b[1m48/48\u001b[0m \u001b[32m━━━━━━━━━━━━━━━━━━━━\u001b[0m\u001b[37m\u001b[0m \u001b[1m4s\u001b[0m 80ms/step - accuracy: 0.2556 - loss: 4.7331 - val_accuracy: 0.2024 - val_loss: 4.4658 - learning_rate: 1.0000e-04\n",
      "Epoch 9/50\n",
      "\u001b[1m48/48\u001b[0m \u001b[32m━━━━━━━━━━━━━━━━━━━━\u001b[0m\u001b[37m\u001b[0m \u001b[1m4s\u001b[0m 76ms/step - accuracy: 0.2519 - loss: 4.3822 - val_accuracy: 0.2083 - val_loss: 4.1453 - learning_rate: 1.0000e-04\n",
      "Epoch 10/50\n",
      "\u001b[1m48/48\u001b[0m \u001b[32m━━━━━━━━━━━━━━━━━━━━\u001b[0m\u001b[37m\u001b[0m \u001b[1m4s\u001b[0m 74ms/step - accuracy: 0.2680 - loss: 4.0713 - val_accuracy: 0.2917 - val_loss: 3.8587 - learning_rate: 1.0000e-04\n",
      "Epoch 11/50\n",
      "\u001b[1m48/48\u001b[0m \u001b[32m━━━━━━━━━━━━━━━━━━━━\u001b[0m\u001b[37m\u001b[0m \u001b[1m4s\u001b[0m 77ms/step - accuracy: 0.2722 - loss: 3.7943 - val_accuracy: 0.2143 - val_loss: 3.6055 - learning_rate: 1.0000e-04\n",
      "Epoch 12/50\n",
      "\u001b[1m48/48\u001b[0m \u001b[32m━━━━━━━━━━━━━━━━━━━━\u001b[0m\u001b[37m\u001b[0m \u001b[1m4s\u001b[0m 75ms/step - accuracy: 0.2570 - loss: 3.5492 - val_accuracy: 0.2083 - val_loss: 3.3803 - learning_rate: 1.0000e-04\n",
      "Epoch 13/50\n",
      "\u001b[1m48/48\u001b[0m \u001b[32m━━━━━━━━━━━━━━━━━━━━\u001b[0m\u001b[37m\u001b[0m \u001b[1m4s\u001b[0m 74ms/step - accuracy: 0.2425 - loss: 3.3261 - val_accuracy: 0.2143 - val_loss: 3.1778 - learning_rate: 1.0000e-04\n",
      "Epoch 14/50\n",
      "\u001b[1m48/48\u001b[0m \u001b[32m━━━━━━━━━━━━━━━━━━━━\u001b[0m\u001b[37m\u001b[0m \u001b[1m4s\u001b[0m 76ms/step - accuracy: 0.2635 - loss: 3.1285 - val_accuracy: 0.2202 - val_loss: 2.9981 - learning_rate: 1.0000e-04\n",
      "Epoch 15/50\n",
      "\u001b[1m48/48\u001b[0m \u001b[32m━━━━━━━━━━━━━━━━━━━━\u001b[0m\u001b[37m\u001b[0m \u001b[1m4s\u001b[0m 77ms/step - accuracy: 0.2747 - loss: 2.9520 - val_accuracy: 0.2143 - val_loss: 2.8379 - learning_rate: 1.0000e-04\n",
      "Epoch 16/50\n",
      "\u001b[1m48/48\u001b[0m \u001b[32m━━━━━━━━━━━━━━━━━━━━\u001b[0m\u001b[37m\u001b[0m \u001b[1m4s\u001b[0m 75ms/step - accuracy: 0.2686 - loss: 2.7988 - val_accuracy: 0.2202 - val_loss: 2.6940 - learning_rate: 1.0000e-04\n",
      "Epoch 17/50\n",
      "\u001b[1m48/48\u001b[0m \u001b[32m━━━━━━━━━━━━━━━━━━━━\u001b[0m\u001b[37m\u001b[0m \u001b[1m4s\u001b[0m 77ms/step - accuracy: 0.2503 - loss: 2.6587 - val_accuracy: 0.2798 - val_loss: 2.5617 - learning_rate: 1.0000e-04\n",
      "Epoch 18/50\n",
      "\u001b[1m48/48\u001b[0m \u001b[32m━━━━━━━━━━━━━━━━━━━━\u001b[0m\u001b[37m\u001b[0m \u001b[1m4s\u001b[0m 75ms/step - accuracy: 0.2483 - loss: 2.5385 - val_accuracy: 0.2917 - val_loss: 2.4451 - learning_rate: 1.0000e-04\n",
      "Epoch 19/50\n",
      "\u001b[1m48/48\u001b[0m \u001b[32m━━━━━━━━━━━━━━━━━━━━\u001b[0m\u001b[37m\u001b[0m \u001b[1m4s\u001b[0m 75ms/step - accuracy: 0.2512 - loss: 2.4236 - val_accuracy: 0.2917 - val_loss: 2.3435 - learning_rate: 1.0000e-04\n",
      "Epoch 20/50\n",
      "\u001b[1m48/48\u001b[0m \u001b[32m━━━━━━━━━━━━━━━━━━━━\u001b[0m\u001b[37m\u001b[0m \u001b[1m4s\u001b[0m 76ms/step - accuracy: 0.2803 - loss: 2.3233 - val_accuracy: 0.2917 - val_loss: 2.2459 - learning_rate: 1.0000e-04\n",
      "Epoch 21/50\n",
      "\u001b[1m48/48\u001b[0m \u001b[32m━━━━━━━━━━━━━━━━━━━━\u001b[0m\u001b[37m\u001b[0m \u001b[1m4s\u001b[0m 78ms/step - accuracy: 0.3317 - loss: 2.2029 - val_accuracy: 0.5060 - val_loss: 1.9168 - learning_rate: 1.0000e-04\n",
      "Epoch 22/50\n",
      "\u001b[1m48/48\u001b[0m \u001b[32m━━━━━━━━━━━━━━━━━━━━\u001b[0m\u001b[37m\u001b[0m \u001b[1m4s\u001b[0m 76ms/step - accuracy: 0.5065 - loss: 1.8241 - val_accuracy: 0.5476 - val_loss: 1.7096 - learning_rate: 1.0000e-04\n",
      "Epoch 23/50\n",
      "\u001b[1m48/48\u001b[0m \u001b[32m━━━━━━━━━━━━━━━━━━━━\u001b[0m\u001b[37m\u001b[0m \u001b[1m4s\u001b[0m 76ms/step - accuracy: 0.5341 - loss: 1.6294 - val_accuracy: 0.4405 - val_loss: 1.6809 - learning_rate: 1.0000e-04\n",
      "Epoch 24/50\n",
      "\u001b[1m48/48\u001b[0m \u001b[32m━━━━━━━━━━━━━━━━━━━━\u001b[0m\u001b[37m\u001b[0m \u001b[1m4s\u001b[0m 77ms/step - accuracy: 0.7093 - loss: 1.3200 - val_accuracy: 0.4762 - val_loss: 1.7469 - learning_rate: 1.0000e-04\n",
      "Epoch 25/50\n",
      "\u001b[1m48/48\u001b[0m \u001b[32m━━━━━━━━━━━━━━━━━━━━\u001b[0m\u001b[37m\u001b[0m \u001b[1m4s\u001b[0m 76ms/step - accuracy: 0.7464 - loss: 1.1302 - val_accuracy: 0.5000 - val_loss: 1.8365 - learning_rate: 1.0000e-04\n",
      "Epoch 26/50\n",
      "\u001b[1m48/48\u001b[0m \u001b[32m━━━━━━━━━━━━━━━━━━━━\u001b[0m\u001b[37m\u001b[0m \u001b[1m4s\u001b[0m 76ms/step - accuracy: 0.7701 - loss: 1.0430 - val_accuracy: 0.6250 - val_loss: 1.6870 - learning_rate: 5.0000e-05\n",
      "Epoch 27/50\n",
      "\u001b[1m48/48\u001b[0m \u001b[32m━━━━━━━━━━━━━━━━━━━━\u001b[0m\u001b[37m\u001b[0m \u001b[1m4s\u001b[0m 76ms/step - accuracy: 0.8322 - loss: 0.9727 - val_accuracy: 0.6548 - val_loss: 1.6962 - learning_rate: 5.0000e-05\n",
      "Epoch 28/50\n",
      "\u001b[1m48/48\u001b[0m \u001b[32m━━━━━━━━━━━━━━━━━━━━\u001b[0m\u001b[37m\u001b[0m \u001b[1m4s\u001b[0m 76ms/step - accuracy: 0.8900 - loss: 0.9118 - val_accuracy: 0.6786 - val_loss: 1.6848 - learning_rate: 2.5000e-05\n"
     ]
    }
   ],
   "source": [
    "history = model.fit(X_train, y_train, epochs=50, batch_size=32, validation_split=0.1, callbacks=[early_stopping, reduce_lr], class_weight=class_weight_dict)"
   ]
  },
  {
   "cell_type": "markdown",
   "metadata": {},
   "source": [
    "### Result"
   ]
  },
  {
   "cell_type": "markdown",
   "metadata": {},
   "source": [
    "#### Accuracy test"
   ]
  },
  {
   "cell_type": "code",
   "execution_count": 194,
   "metadata": {},
   "outputs": [],
   "source": [
    "from sklearn.metrics import classification_report, confusion_matrix\n",
    "import seaborn as sns\n",
    "import matplotlib.pyplot as plt"
   ]
  },
  {
   "cell_type": "code",
   "execution_count": 195,
   "metadata": {},
   "outputs": [
    {
     "name": "stdout",
     "output_type": "stream",
     "text": [
      "\u001b[1m14/14\u001b[0m \u001b[32m━━━━━━━━━━━━━━━━━━━━\u001b[0m\u001b[37m\u001b[0m \u001b[1m0s\u001b[0m 20ms/step - accuracy: 0.5062 - loss: 1.6147\n",
      "Test: 49.52%\n"
     ]
    }
   ],
   "source": [
    "loss, accuracy = model.evaluate(X_test, y_test)\n",
    "print(f\"Test: {accuracy:.2%}\")"
   ]
  },
  {
   "cell_type": "code",
   "execution_count": 196,
   "metadata": {},
   "outputs": [
    {
     "name": "stdout",
     "output_type": "stream",
     "text": [
      "\u001b[1m14/14\u001b[0m \u001b[32m━━━━━━━━━━━━━━━━━━━━\u001b[0m\u001b[37m\u001b[0m \u001b[1m1s\u001b[0m 32ms/step\n",
      "              precision    recall  f1-score   support\n",
      "\n",
      "           0       0.87      0.18      0.30       109\n",
      "           1       0.00      0.00      0.00       108\n",
      "           2       0.41      0.95      0.57       107\n",
      "           3       0.59      0.90      0.71        96\n",
      "\n",
      "    accuracy                           0.50       420\n",
      "   macro avg       0.47      0.51      0.40       420\n",
      "weighted avg       0.46      0.50      0.39       420\n",
      "\n"
     ]
    },
    {
     "name": "stderr",
     "output_type": "stream",
     "text": [
      "/Users/mac/Library/Python/3.9/lib/python/site-packages/sklearn/metrics/_classification.py:1531: UndefinedMetricWarning: Precision is ill-defined and being set to 0.0 in labels with no predicted samples. Use `zero_division` parameter to control this behavior.\n",
      "  _warn_prf(average, modifier, f\"{metric.capitalize()} is\", len(result))\n",
      "/Users/mac/Library/Python/3.9/lib/python/site-packages/sklearn/metrics/_classification.py:1531: UndefinedMetricWarning: Precision is ill-defined and being set to 0.0 in labels with no predicted samples. Use `zero_division` parameter to control this behavior.\n",
      "  _warn_prf(average, modifier, f\"{metric.capitalize()} is\", len(result))\n",
      "/Users/mac/Library/Python/3.9/lib/python/site-packages/sklearn/metrics/_classification.py:1531: UndefinedMetricWarning: Precision is ill-defined and being set to 0.0 in labels with no predicted samples. Use `zero_division` parameter to control this behavior.\n",
      "  _warn_prf(average, modifier, f\"{metric.capitalize()} is\", len(result))\n"
     ]
    },
    {
     "data": {
      "text/plain": [
       "<Axes: >"
      ]
     },
     "execution_count": 196,
     "metadata": {},
     "output_type": "execute_result"
    },
    {
     "data": {
      "image/png": "[encoded data removed]",
      "text/plain": [
       "<Figure size 640x480 with 2 Axes>"
      ]
     },
     "metadata": {},
     "output_type": "display_data"
    }
   ],
   "source": [
    "y_pred = model.predict(X_test)\n",
    "y_pred_classes = np.argmax(y_pred, axis=1)\n",
    "\n",
    "print(classification_report(y_test, y_pred_classes))\n",
    "sns.heatmap(confusion_matrix(y_test, y_pred_classes), annot=True, fmt='d')"
   ]
  },
  {
   "cell_type": "markdown",
   "metadata": {},
   "source": [
    "#### Visualization accuracy"
   ]
  },
  {
   "cell_type": "code",
   "execution_count": 197,
   "metadata": {},
   "outputs": [
    {
     "data": {
      "image/png": "[encoded data removed]",
      "text/plain": [
       "<Figure size 1000x700 with 1 Axes>"
      ]
     },
     "metadata": {},
     "output_type": "display_data"
    }
   ],
   "source": [
    "plt.figure(figsize=(10, 7))\n",
    "plt.plot(history.history['accuracy'], label='Train Accuracy')\n",
    "plt.plot(history.history['val_accuracy'], label='Validation Accuracy')\n",
    "plt.xlabel('Epoch')\n",
    "plt.ylabel('Accuracy')\n",
    "plt.legend()\n",
    "plt.show()"
   ]
  },
  {
   "cell_type": "markdown",
   "metadata": {},
   "source": [
    "#### Visualization loss"
   ]
  },
  {
   "cell_type": "code",
   "execution_count": 198,
   "metadata": {},
   "outputs": [
    {
     "data": {
      "image/png": "[encoded data removed]",
      "text/plain": [
       "<Figure size 1000x700 with 1 Axes>"
      ]
     },
     "metadata": {},
     "output_type": "display_data"
    }
   ],
   "source": [
    "plt.figure(figsize=(10, 7))\n",
    "plt.plot(history.history['loss'], label='Train Loss')\n",
    "plt.plot(history.history['val_loss'], label='Validation Loss')\n",
    "plt.xlabel('Epoch')\n",
    "plt.ylabel('Accuracy')\n",
    "plt.legend()\n",
    "plt.show()"
   ]
  },
  {
   "cell_type": "markdown",
   "metadata": {},
   "source": [
    "## Model BERT"
   ]
  },
  {
   "cell_type": "markdown",
   "metadata": {},
   "source": [
    "### Import the important library"
   ]
  },
  {
   "cell_type": "code",
   "execution_count": 199,
   "metadata": {},
   "outputs": [],
   "source": [
    "import pandas as pd\n",
    "import torch\n",
    "from torch.utils.data import DataLoader, TensorDataset, RandomSampler, SequentialSampler\n",
    "from transformers import BertTokenizer, BertForSequenceClassification, AdamW, get_linear_schedule_with_warmup\n",
    "from sklearn.model_selection import train_test_split\n",
    "from sklearn.metrics import classification_report, accuracy_score"
   ]
  },
  {
   "cell_type": "markdown",
   "metadata": {},
   "source": [
    "#### Check the device cpu"
   ]
  },
  {
   "cell_type": "code",
   "execution_count": 200,
   "metadata": {},
   "outputs": [
    {
     "name": "stdout",
     "output_type": "stream",
     "text": [
      "Using device: cpu\n"
     ]
    }
   ],
   "source": [
    "device = torch.device('cuda' if torch.cuda.is_available() else 'cpu')\n",
    "print(f'Using device: {device}')"
   ]
  },
  {
   "cell_type": "code",
   "execution_count": 202,
   "metadata": {},
   "outputs": [],
   "source": [
    "text_column = 'stopwords'\n",
    "label_column = 'label'"
   ]
  },
  {
   "cell_type": "code",
   "execution_count": 203,
   "metadata": {},
   "outputs": [],
   "source": [
    "label_mapping = {label: idx for idx, label in enumerate(data[label_column].unique())}\n",
    "data['label_encoded'] = data[label_column].map(label_mapping)"
   ]
  },
  {
   "cell_type": "code",
   "execution_count": 204,
   "metadata": {},
   "outputs": [],
   "source": [
    "X_train, X_test, y_train, y_test = train_test_split(\n",
    "    data[text_column].values,\n",
    "    data['label_encoded'].values,\n",
    "    test_size=0.2,\n",
    "    random_state=42\n",
    ")"
   ]
  },
  {
   "cell_type": "code",
   "execution_count": 205,
   "metadata": {},
   "outputs": [],
   "source": [
    "tokenizer = BertTokenizer.from_pretrained('bert-base-uncased')"
   ]
  },
  {
   "cell_type": "code",
   "execution_count": 206,
   "metadata": {},
   "outputs": [],
   "source": [
    "def encode_texts(texts, tokenizer, max_len=128):\n",
    "    return tokenizer(\n",
    "        list(texts),\n",
    "        padding=True,\n",
    "        truncation=True,\n",
    "        max_length=max_len,\n",
    "        return_tensors='pt'\n",
    "    )"
   ]
  },
  {
   "cell_type": "code",
   "execution_count": 207,
   "metadata": {},
   "outputs": [],
   "source": [
    "X_train_encoded = encode_texts(X_train, tokenizer)\n",
    "X_test_encoded = encode_texts(X_test, tokenizer)"
   ]
  },
  {
   "cell_type": "code",
   "execution_count": 208,
   "metadata": {},
   "outputs": [],
   "source": [
    "y_train_tensor = torch.tensor(y_train)\n",
    "y_test_tensor = torch.tensor(y_test)"
   ]
  },
  {
   "cell_type": "code",
   "execution_count": 209,
   "metadata": {},
   "outputs": [],
   "source": [
    "train_dataset = TensorDataset(X_train_encoded['input_ids'], X_train_encoded['attention_mask'], y_train_tensor)\n",
    "train_dataloader = DataLoader(train_dataset, sampler=RandomSampler(train_dataset), batch_size=16)"
   ]
  },
  {
   "cell_type": "code",
   "execution_count": 210,
   "metadata": {},
   "outputs": [],
   "source": [
    "test_dataset = TensorDataset(X_test_encoded['input_ids'], X_test_encoded['attention_mask'], y_test_tensor)\n",
    "test_dataloader = DataLoader(test_dataset, sampler=SequentialSampler(test_dataset), batch_size=16)"
   ]
  },
  {
   "cell_type": "code",
   "execution_count": 211,
   "metadata": {},
   "outputs": [
    {
     "name": "stderr",
     "output_type": "stream",
     "text": [
      "Some weights of BertForSequenceClassification were not initialized from the model checkpoint at bert-base-uncased and are newly initialized: ['classifier.bias', 'classifier.weight']\n",
      "You should probably TRAIN this model on a down-stream task to be able to use it for predictions and inference.\n"
     ]
    }
   ],
   "source": [
    "model = BertForSequenceClassification.from_pretrained('bert-base-uncased', num_labels=len(label_mapping))\n",
    "model = modelv1.to(device)"
   ]
  },
  {
   "cell_type": "code",
   "execution_count": 212,
   "metadata": {},
   "outputs": [
    {
     "name": "stderr",
     "output_type": "stream",
     "text": [
      "/Users/mac/Library/Python/3.9/lib/python/site-packages/transformers/optimization.py:591: FutureWarning: This implementation of AdamW is deprecated and will be removed in a future version. Use the PyTorch implementation torch.optim.AdamW instead, or set `no_deprecation_warning=True` to disable this warning\n",
      "  warnings.warn(\n"
     ]
    }
   ],
   "source": [
    "optimizer = AdamW(model.parameters(), lr=2e-5, eps=1e-8)\n",
    "total_steps = len(train_dataloader) * 3"
   ]
  },
  {
   "cell_type": "code",
   "execution_count": 213,
   "metadata": {},
   "outputs": [],
   "source": [
    "scheduler = get_linear_schedule_with_warmup(\n",
    "    optimizer,\n",
    "    num_warmup_steps=0,\n",
    "    num_training_steps=total_steps\n",
    ")"
   ]
  },
  {
   "cell_type": "code",
   "execution_count": 214,
   "metadata": {},
   "outputs": [
    {
     "name": "stdout",
     "output_type": "stream",
     "text": [
      "Epoch 1/3\n",
      "Average training loss: 0.6211\n",
      "Epoch 2/3\n",
      "Average training loss: 0.3147\n",
      "Epoch 3/3\n",
      "Average training loss: 0.1668\n"
     ]
    }
   ],
   "source": [
    "def train_model(model, dataloader, optimizer, scheduler, epochs=3):\n",
    "    model.train()\n",
    "    for epoch in range(epochs):\n",
    "        total_loss = 0\n",
    "        print(f'Epoch {epoch + 1}/{epochs}')\n",
    "        for step, batch in enumerate(dataloader):\n",
    "            batch_input_ids, batch_attention_mask, batch_labels = tuple(t.to(device) for t in batch)\n",
    "            model.zero_grad()\n",
    "            outputs = model(batch_input_ids, attention_mask=batch_attention_mask, labels=batch_labels)\n",
    "            loss = outputs.loss\n",
    "            total_loss += loss.item()\n",
    "            loss.backward()\n",
    "            torch.nn.utils.clip_grad_norm_(model.parameters(), max_norm=1.0)\n",
    "            optimizer.step()\n",
    "            scheduler.step()\n",
    "\n",
    "        avg_loss = total_loss / len(dataloader)\n",
    "        print(f'Average training loss: {avg_loss:.4f}')\n",
    "train_model(model, train_dataloader, optimizer, scheduler, epochs=3)"
   ]
  },
  {
   "cell_type": "code",
   "execution_count": 215,
   "metadata": {},
   "outputs": [],
   "source": [
    "def evaluate_model(model, dataloader):\n",
    "    model.eval()\n",
    "    predictions, true_labels = [], []\n",
    "    with torch.no_grad():\n",
    "        for batch in dataloader:\n",
    "            batch_input_ids, batch_attention_mask, batch_labels = tuple(t.to(device) for t in batch)\n",
    "            outputs = model(batch_input_ids, attention_mask=batch_attention_mask)\n",
    "            logits = outputs.logits\n",
    "            predictions.extend(torch.argmax(logits, dim=1).cpu().numpy())\n",
    "            true_labels.extend(batch_labels.cpu().numpy())\n",
    "    return true_labels, predictions"
   ]
  },
  {
   "cell_type": "code",
   "execution_count": 216,
   "metadata": {},
   "outputs": [],
   "source": [
    "true_labels, predictions = evaluate_model(model, test_dataloader)"
   ]
  },
  {
   "cell_type": "markdown",
   "metadata": {},
   "source": [
    "### Result"
   ]
  },
  {
   "cell_type": "code",
   "execution_count": 217,
   "metadata": {},
   "outputs": [
    {
     "name": "stdout",
     "output_type": "stream",
     "text": [
      "              precision    recall  f1-score   support\n",
      "\n",
      "           0       0.86      0.84      0.85       109\n",
      "           1       0.92      0.88      0.90       107\n",
      "           2       0.94      0.94      0.94       108\n",
      "           3       0.82      0.88      0.85        96\n",
      "\n",
      "    accuracy                           0.89       420\n",
      "   macro avg       0.89      0.89      0.88       420\n",
      "weighted avg       0.89      0.89      0.89       420\n",
      "\n",
      "Accuracy: 88.57%\n"
     ]
    }
   ],
   "source": [
    "print(classification_report(true_labels, predictions))\n",
    "print(f'Accuracy: {accuracy_score(true_labels, predictions):.2%}')"
   ]
  },
  {
   "cell_type": "code",
   "execution_count": 221,
   "metadata": {},
   "outputs": [
    {
     "data": {
      "image/png": "[encoded data removed]",
      "text/plain": [
       "<Figure size 1000x1000 with 2 Axes>"
      ]
     },
     "metadata": {},
     "output_type": "display_data"
    },
    {
     "data": {
      "image/png": "[encoded data removed]",
      "text/plain": [
       "<Figure size 1200x800 with 2 Axes>"
      ]
     },
     "metadata": {},
     "output_type": "display_data"
    }
   ],
   "source": [
    "import matplotlib.pyplot as plt\n",
    "import numpy as np\n",
    "from sklearn.metrics import confusion_matrix, ConfusionMatrixDisplay, classification_report\n",
    "\n",
    "cm = confusion_matrix(true_labels, predictions)\n",
    "disp = ConfusionMatrixDisplay(confusion_matrix=cm, display_labels=label_mapping.keys())\n",
    "\n",
    "fig, ax = plt.subplots(figsize=(10, 10))\n",
    "disp.plot(ax=ax, cmap='Blues')\n",
    "plt.title('Confusion Matrix')\n",
    "plt.show()\n",
    "\n",
    "report = classification_report(true_labels, predictions, output_dict=True)\n",
    "categories = list(report.keys())[:-3]\n",
    "\n",
    "report_values = np.array([[report[cat]['precision'], report[cat]['recall'], report[cat]['f1-score']] for cat in categories])\n",
    "fig, ax = plt.subplots(figsize=(12, 8))\n",
    "im = ax.imshow(report_values, cmap='viridis')\n",
    "\n",
    "ax.set_xticks(np.arange(3))\n",
    "ax.set_yticks(np.arange(len(categories)))\n",
    "ax.set_xticklabels(['Precision', 'Recall', 'F1-Score'])\n",
    "ax.set_yticklabels(categories)\n",
    "\n",
    "plt.setp(ax.get_xticklabels(), rotation=45, ha=\"right\", rotation_mode=\"anchor\")\n",
    "\n",
    "for i in range(len(categories)):\n",
    "    for j in range(3):\n",
    "        text = ax.text(j, i, f\"{report_values[i, j]:.2f}\", ha=\"center\", va=\"center\", color=\"white\")\n",
    "\n",
    "ax.set_title(\"Classification Report Heatmap\")\n",
    "plt.colorbar(im, ax=ax)\n",
    "plt.tight_layout()\n",
    "plt.show()\n"
   ]
  },
  {
   "cell_type": "markdown",
   "metadata": {},
   "source": [
    "#### Export model BERT"
   ]
  },
  {
   "cell_type": "code",
   "execution_count": 222,
   "metadata": {},
   "outputs": [],
   "source": [
    "torch.save(model, 'bert_emotion_model.pth')"
   ]
  },
  {
   "cell_type": "markdown",
   "metadata": {},
   "source": [
    "### Predict emotion use BERT"
   ]
  },
  {
   "cell_type": "markdown",
   "metadata": {},
   "source": [
    "#### Import the important library"
   ]
  },
  {
   "cell_type": "code",
   "execution_count": 272,
   "metadata": {},
   "outputs": [],
   "source": [
    "import re\n",
    "import torch\n",
    "from transformers import BertTokenizer, BertForSequenceClassification\n",
    "from torch.nn.functional import softmax\n"
   ]
  },
  {
   "cell_type": "code",
   "execution_count": 273,
   "metadata": {},
   "outputs": [
    {
     "name": "stdout",
     "output_type": "stream",
     "text": [
      "Using device: cpu\n"
     ]
    }
   ],
   "source": [
    "device = torch.device('cuda' if torch.cuda.is_available() else 'cpu')\n",
    "print(f'Using device: {device}')"
   ]
  },
  {
   "cell_type": "code",
   "execution_count": 274,
   "metadata": {},
   "outputs": [],
   "source": [
    "data_test = pd.read_csv('../Dataset/test.csv')"
   ]
  },
  {
   "cell_type": "code",
   "execution_count": 287,
   "metadata": {},
   "outputs": [
    {
     "data": {
      "text/plain": [
       "label                                                anger\n",
       "data     maneh teh pakboi ulah ngaku2 belum pacaran atu...\n",
       "Name: 31, dtype: object"
      ]
     },
     "execution_count": 287,
     "metadata": {},
     "output_type": "execute_result"
    }
   ],
   "source": [
    "data_test.loc[31]"
   ]
  },
  {
   "cell_type": "code",
   "execution_count": 276,
   "metadata": {},
   "outputs": [],
   "source": [
    "# create def to apply lowercase, mapping dict, remove non alphabet, remove whitespace, remove punctuation, standardized word, stopwords, and tokenized\n",
    "def preprocess_text(text):\n",
    "    text = text.lower()\n",
    "    text = text.replace('\\'', '')\n",
    "    text = re.sub(r'[^a-z]', ' ', text)\n",
    "    text = re.sub(r'\\s+', ' ', text)\n",
    "    text = re.sub(r'[^\\w\\s]', '', text)\n",
    "    text = optimized_standardize_words(text, standardized_list, standardized_vector)\n",
    "    text = ' '.join([word for word in text.split() if word not in custom_stopwords])\n",
    "    text = text.split()\n",
    "    return text\n"
   ]
  },
  {
   "cell_type": "code",
   "execution_count": 277,
   "metadata": {},
   "outputs": [
    {
     "name": "stderr",
     "output_type": "stream",
     "text": [
      "Some weights of BertForSequenceClassification were not initialized from the model checkpoint at bert-base-uncased and are newly initialized: ['classifier.bias', 'classifier.weight']\n",
      "You should probably TRAIN this model on a down-stream task to be able to use it for predictions and inference.\n",
      "/var/folders/6x/lmc1htc9365gh92j_29fzc4m0000gn/T/ipykernel_1228/2674254823.py:3: FutureWarning: You are using `torch.load` with `weights_only=False` (the current default value), which uses the default pickle module implicitly. It is possible to construct malicious pickle data which will execute arbitrary code during unpickling (See https://github.com/pytorch/pytorch/blob/main/SECURITY.md#untrusted-models for more details). In a future release, the default value for `weights_only` will be flipped to `True`. This limits the functions that could be executed during unpickling. Arbitrary objects will no longer be allowed to be loaded via this mode unless they are explicitly allowlisted by the user via `torch.serialization.add_safe_globals`. We recommend you start setting `weights_only=True` for any use case where you don't have full control of the loaded file. Please open an issue on GitHub for any issues related to this experimental feature.\n",
      "  model = torch.load('bert_emotion_model.pth')\n"
     ]
    },
    {
     "data": {
      "text/plain": [
       "BertForSequenceClassification(\n",
       "  (bert): BertModel(\n",
       "    (embeddings): BertEmbeddings(\n",
       "      (word_embeddings): Embedding(30522, 768, padding_idx=0)\n",
       "      (position_embeddings): Embedding(512, 768)\n",
       "      (token_type_embeddings): Embedding(2, 768)\n",
       "      (LayerNorm): LayerNorm((768,), eps=1e-12, elementwise_affine=True)\n",
       "      (dropout): Dropout(p=0.1, inplace=False)\n",
       "    )\n",
       "    (encoder): BertEncoder(\n",
       "      (layer): ModuleList(\n",
       "        (0-11): 12 x BertLayer(\n",
       "          (attention): BertAttention(\n",
       "            (self): BertSdpaSelfAttention(\n",
       "              (query): Linear(in_features=768, out_features=768, bias=True)\n",
       "              (key): Linear(in_features=768, out_features=768, bias=True)\n",
       "              (value): Linear(in_features=768, out_features=768, bias=True)\n",
       "              (dropout): Dropout(p=0.1, inplace=False)\n",
       "            )\n",
       "            (output): BertSelfOutput(\n",
       "              (dense): Linear(in_features=768, out_features=768, bias=True)\n",
       "              (LayerNorm): LayerNorm((768,), eps=1e-12, elementwise_affine=True)\n",
       "              (dropout): Dropout(p=0.1, inplace=False)\n",
       "            )\n",
       "          )\n",
       "          (intermediate): BertIntermediate(\n",
       "            (dense): Linear(in_features=768, out_features=3072, bias=True)\n",
       "            (intermediate_act_fn): GELUActivation()\n",
       "          )\n",
       "          (output): BertOutput(\n",
       "            (dense): Linear(in_features=3072, out_features=768, bias=True)\n",
       "            (LayerNorm): LayerNorm((768,), eps=1e-12, elementwise_affine=True)\n",
       "            (dropout): Dropout(p=0.1, inplace=False)\n",
       "          )\n",
       "        )\n",
       "      )\n",
       "    )\n",
       "    (pooler): BertPooler(\n",
       "      (dense): Linear(in_features=768, out_features=768, bias=True)\n",
       "      (activation): Tanh()\n",
       "    )\n",
       "  )\n",
       "  (dropout): Dropout(p=0.1, inplace=False)\n",
       "  (classifier): Linear(in_features=768, out_features=4, bias=True)\n",
       ")"
      ]
     },
     "execution_count": 277,
     "metadata": {},
     "output_type": "execute_result"
    }
   ],
   "source": [
    "tokenizer = BertTokenizer.from_pretrained('bert-base-uncased')\n",
    "model = BertForSequenceClassification.from_pretrained('bert-base-uncased', num_labels=len(label_mapping))\n",
    "model = torch.load('bert_emotion_model.pth')\n",
    "model = model.to(device)\n",
    "model.eval()"
   ]
  },
  {
   "cell_type": "code",
   "execution_count": 278,
   "metadata": {},
   "outputs": [],
   "source": [
    "story = \"\"\"\n",
    "'maneh teh pakboi ulah ngaku2 belum pacaran atuh maneh goblog!'\n",
    "\"\"\""
   ]
  },
  {
   "cell_type": "code",
   "execution_count": 279,
   "metadata": {},
   "outputs": [],
   "source": [
    "# split sentences\n",
    "sentences = story.split('.')\n",
    "sentences = [sentence for sentence in sentences if sentence]\n",
    "normalized_sentences = [preprocess_text(sentence) for sentence in sentences]"
   ]
  },
  {
   "cell_type": "code",
   "execution_count": 280,
   "metadata": {},
   "outputs": [
    {
     "data": {
      "text/plain": [
       "[\"\\n'maneh teh pakboi ulah ngaku2 belum pacaran atuh maneh goblog!'\\n\"]"
      ]
     },
     "execution_count": 280,
     "metadata": {},
     "output_type": "execute_result"
    }
   ],
   "source": [
    "sentences"
   ]
  },
  {
   "cell_type": "code",
   "execution_count": 281,
   "metadata": {},
   "outputs": [],
   "source": [
    "output = [' '.join(sublist) for sublist in normalized_sentences]"
   ]
  },
  {
   "cell_type": "code",
   "execution_count": 282,
   "metadata": {},
   "outputs": [
    {
     "data": {
      "text/plain": [
       "['maneh pakboi ulah ngaku pacaran maneh']"
      ]
     },
     "execution_count": 282,
     "metadata": {},
     "output_type": "execute_result"
    }
   ],
   "source": [
    "output"
   ]
  },
  {
   "cell_type": "code",
   "execution_count": 283,
   "metadata": {},
   "outputs": [],
   "source": [
    "def encode_new_texts(texts, tokenizer, max_len=128):\n",
    "    return tokenizer(\n",
    "        texts,\n",
    "        padding=True,\n",
    "        truncation=True,\n",
    "        max_length=max_len,\n",
    "        return_tensors='pt'\n",
    "    )"
   ]
  },
  {
   "cell_type": "code",
   "execution_count": 284,
   "metadata": {},
   "outputs": [],
   "source": [
    "encode_sentences = encode_new_texts(output, tokenizer)\n",
    "input_ids = encode_sentences['input_ids'].to(device)\n",
    "attention_mask = encode_sentences['attention_mask'].to(device)"
   ]
  },
  {
   "cell_type": "code",
   "execution_count": 285,
   "metadata": {},
   "outputs": [],
   "source": [
    "with torch.no_grad():\n",
    "    outputs = model(input_ids, attention_mask=attention_mask)\n",
    "    logits = outputs.logits\n",
    "    probabilities = softmax(logits, dim=1).cpu().numpy()\n",
    "\n",
    "label_mapping_reversed = {v: k for k, v in label_mapping.items()}"
   ]
  },
  {
   "cell_type": "code",
   "execution_count": 286,
   "metadata": {},
   "outputs": [
    {
     "name": "stdout",
     "output_type": "stream",
     "text": [
      "Kalimat : \"maneh pakboi ulah ngaku pacaran maneh\"\n",
      "Emosi yang diprediksi : \n",
      "anger : 95.54%\n",
      "joy : 1.87%\n",
      "fear : 0.99%\n",
      "sadness : 1.60%\n",
      "\n"
     ]
    }
   ],
   "source": [
    "for i, sentences in enumerate(output):\n",
    "    print(f\"Kalimat : \\\"{sentences}\\\"\")\n",
    "    print(f\"Emosi yang diprediksi : \")\n",
    "    for label_idx, prob in enumerate(probabilities[i]):\n",
    "        label = label_mapping_reversed[label_idx]\n",
    "        print(f\"{label} : {prob:.2%}\")\n",
    "    print()"
   ]
  },
  {
   "cell_type": "code",
   "execution_count": null,
   "metadata": {},
   "outputs": [],
   "source": []
  }
 ],
 "metadata": {
  "kernelspec": {
   "display_name": "Python 3",
   "language": "python",
   "name": "python3"
  },
  "language_info": {
   "codemirror_mode": {
    "name": "ipython",
    "version": 3
   },
   "file_extension": ".py",
   "mimetype": "text/x-python",
   "name": "python",
   "nbconvert_exporter": "python",
   "pygments_lexer": "ipython3",
   "version": "3.9.6"
  }
 },
 "nbformat": 4,
 "nbformat_minor": 2
}
